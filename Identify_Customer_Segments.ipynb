{
 "cells": [
  {
   "cell_type": "markdown",
   "metadata": {},
   "source": [
    "# Project: Identify Customer Segments\n",
    "\n",
    "In this project, you will apply unsupervised learning techniques to identify segments of the population that form the core customer base for a mail-order sales company in Germany. These segments can then be used to direct marketing campaigns towards audiences that will have the highest expected rate of returns. The data that you will use has been provided by our partners at Bertelsmann Arvato Analytics, and represents a real-life data science task.\n",
    "\n",
    "This notebook will help you complete this task by providing a framework within which you will perform your analysis steps. In each step of the project, you will see some text describing the subtask that you will perform, followed by one or more code cells for you to complete your work. **Feel free to add additional code and markdown cells as you go along so that you can explore everything in precise chunks.** The code cells provided in the base template will outline only the major tasks, and will usually not be enough to cover all of the minor tasks that comprise it.\n",
    "\n",
    "It should be noted that while there will be precise guidelines on how you should handle certain tasks in the project, there will also be places where an exact specification is not provided. **There will be times in the project where you will need to make and justify your own decisions on how to treat the data.** These are places where there may not be only one way to handle the data. In real-life tasks, there may be many valid ways to approach an analysis task. One of the most important things you can do is clearly document your approach so that other scientists can understand the decisions you've made.\n",
    "\n",
    "At the end of most sections, there will be a Markdown cell labeled **Discussion**. In these cells, you will report your findings for the completed section, as well as document the decisions that you made in your approach to each subtask. **Your project will be evaluated not just on the code used to complete the tasks outlined, but also your communication about your observations and conclusions at each stage.**"
   ]
  },
  {
   "cell_type": "code",
   "execution_count": 12,
   "metadata": {},
   "outputs": [],
   "source": [
    "# import libraries here; add more as necessary\n",
    "import numpy as np\n",
    "import pandas as pd\n",
    "import matplotlib.pyplot as plt\n",
    "import seaborn as sns\n",
    "\n",
    "# magic word for producing visualizations in notebook\n",
    "%matplotlib inline"
   ]
  },
  {
   "cell_type": "markdown",
   "metadata": {},
   "source": [
    "### Step 0: Load the Data\n",
    "\n",
    "There are four files associated with this project (not including this one):\n",
    "\n",
    "- `Udacity_AZDIAS_Subset.csv`: Demographics data for the general population of Germany; 891211 persons (rows) x 85 features (columns).\n",
    "- `Udacity_CUSTOMERS_Subset.csv`: Demographics data for customers of a mail-order company; 191652 persons (rows) x 85 features (columns).\n",
    "- `Data_Dictionary.md`: Detailed information file about the features in the provided datasets.\n",
    "- `AZDIAS_Feature_Summary.csv`: Summary of feature attributes for demographics data; 85 features (rows) x 4 columns\n",
    "\n",
    "Each row of the demographics files represents a single person, but also includes information outside of individuals, including information about their household, building, and neighborhood. You will use this information to cluster the general population into groups with similar demographic properties. Then, you will see how the people in the customers dataset fit into those created clusters. The hope here is that certain clusters are over-represented in the customers data, as compared to the general population; those over-represented clusters will be assumed to be part of the core userbase. This information can then be used for further applications, such as targeting for a marketing campaign.\n",
    "\n",
    "To start off with, load in the demographics data for the general population into a pandas DataFrame, and do the same for the feature attributes summary. Note for all of the `.csv` data files in this project: they're semicolon (`;`) delimited, so you'll need an additional argument in your [`read_csv()`](https://pandas.pydata.org/pandas-docs/stable/generated/pandas.read_csv.html) call to read in the data properly. Also, considering the size of the main dataset, it may take some time for it to load completely.\n",
    "\n",
    "Once the dataset is loaded, it's recommended that you take a little bit of time just browsing the general structure of the dataset and feature summary file. You'll be getting deep into the innards of the cleaning in the first major step of the project, so gaining some general familiarity can help you get your bearings."
   ]
  },
  {
   "cell_type": "code",
   "execution_count": 13,
   "metadata": {},
   "outputs": [],
   "source": [
    "# Load in the general demographics data.\n",
    "azdias = pd.read_csv('Udacity_AZDIAS_Subset.csv',delimiter=';');\n",
    "#customers = pd.read_csv('Udacity_CUSTOMERS_Subset.csv',delimiter=';');\n",
    "#dictionary = pd.read_csv('Data_Dictionary.md',delimiter=';');\n",
    "\n",
    "# Load in the feature summary file.\n",
    "feat_info = pd.read_csv('AZDIAS_Feature_Summary.csv',delimiter=';');"
   ]
  },
  {
   "cell_type": "code",
   "execution_count": 3,
   "metadata": {
    "scrolled": true
   },
   "outputs": [
    {
     "name": "stdout",
     "output_type": "stream",
     "text": [
      "   AGER_TYP  ALTERSKATEGORIE_GROB  ANREDE_KZ  CJT_GESAMTTYP  \\\n",
      "0        -1                     2          1            2.0   \n",
      "1        -1                     1          2            5.0   \n",
      "2        -1                     3          2            3.0   \n",
      "3         2                     4          2            2.0   \n",
      "4        -1                     3          1            5.0   \n",
      "5         3                     1          2            2.0   \n",
      "6        -1                     2          2            5.0   \n",
      "7        -1                     1          1            3.0   \n",
      "8        -1                     3          1            3.0   \n",
      "9        -1                     3          2            4.0   \n",
      "\n",
      "   FINANZ_MINIMALIST  FINANZ_SPARER  FINANZ_VORSORGER  FINANZ_ANLEGER  \\\n",
      "0                  3              4                 3               5   \n",
      "1                  1              5                 2               5   \n",
      "2                  1              4                 1               2   \n",
      "3                  4              2                 5               2   \n",
      "4                  4              3                 4               1   \n",
      "5                  3              1                 5               2   \n",
      "6                  1              5                 1               5   \n",
      "7                  3              3                 4               1   \n",
      "8                  4              4                 2               4   \n",
      "9                  2              4                 2               3   \n",
      "\n",
      "   FINANZ_UNAUFFAELLIGER  FINANZ_HAUSBAUER    ...     PLZ8_ANTG1  PLZ8_ANTG2  \\\n",
      "0                      5                 3    ...            NaN         NaN   \n",
      "1                      4                 5    ...            2.0         3.0   \n",
      "2                      3                 5    ...            3.0         3.0   \n",
      "3                      1                 2    ...            2.0         2.0   \n",
      "4                      3                 2    ...            2.0         4.0   \n",
      "5                      2                 5    ...            2.0         3.0   \n",
      "6                      4                 3    ...            3.0         3.0   \n",
      "7                      3                 2    ...            3.0         3.0   \n",
      "8                      2                 2    ...            2.0         3.0   \n",
      "9                      5                 4    ...            2.0         3.0   \n",
      "\n",
      "   PLZ8_ANTG3  PLZ8_ANTG4  PLZ8_BAUMAX  PLZ8_HHZ  PLZ8_GBZ  ARBEIT  \\\n",
      "0         NaN         NaN          NaN       NaN       NaN     NaN   \n",
      "1         2.0         1.0          1.0       5.0       4.0     3.0   \n",
      "2         1.0         0.0          1.0       4.0       4.0     3.0   \n",
      "3         2.0         0.0          1.0       3.0       4.0     2.0   \n",
      "4         2.0         1.0          2.0       3.0       3.0     4.0   \n",
      "5         1.0         1.0          1.0       5.0       5.0     2.0   \n",
      "6         1.0         0.0          1.0       5.0       5.0     4.0   \n",
      "7         1.0         0.0          1.0       4.0       4.0     2.0   \n",
      "8         2.0         1.0          1.0       3.0       3.0     2.0   \n",
      "9         2.0         1.0          1.0       3.0       3.0     2.0   \n",
      "\n",
      "   ORTSGR_KLS9  RELAT_AB  \n",
      "0          NaN       NaN  \n",
      "1          5.0       4.0  \n",
      "2          5.0       2.0  \n",
      "3          3.0       3.0  \n",
      "4          6.0       5.0  \n",
      "5          3.0       3.0  \n",
      "6          6.0       3.0  \n",
      "7          5.0       2.0  \n",
      "8          4.0       3.0  \n",
      "9          3.0       1.0  \n",
      "\n",
      "[10 rows x 85 columns]\n"
     ]
    }
   ],
   "source": [
    "# Check the structure of the data after it's loaded (e.g. print the number of\n",
    "# rows and columns, print the first few rows).\n",
    "#print(azdias.shape)\n",
    "#azdias.info()\n",
    "print(azdias.head(10))\n",
    "#print(azdias['ALTERSKATEGORIE_GROB'].head(200))\n",
    "'''counter1 = 0\n",
    "for number in azdias['AGER_TYP']:\n",
    "    #print(number)\n",
    "    if number == -1:\n",
    "        print(counter1)\n",
    "    counter1 += 1'''\n",
    "feat_info.head(6);\n",
    "#print(azdias['OST_WEST_KZ'])"
   ]
  },
  {
   "cell_type": "markdown",
   "metadata": {},
   "source": [
    "> **Tip**: Add additional cells to keep everything in reasonably-sized chunks! Keyboard shortcut `esc --> a` (press escape to enter command mode, then press the 'A' key) adds a new cell before the active cell, and `esc --> b` adds a new cell after the active cell. If you need to convert an active cell to a markdown cell, use `esc --> m` and to convert to a code cell, use `esc --> y`. \n",
    "\n",
    "## Step 1: Preprocessing\n",
    "\n",
    "### Step 1.1: Assess Missing Data\n",
    "\n",
    "The feature summary file contains a summary of properties for each demographics data column. You will use this file to help you make cleaning decisions during this stage of the project. First of all, you should assess the demographics data in terms of missing data. Pay attention to the following points as you perform your analysis, and take notes on what you observe. Make sure that you fill in the **Discussion** cell with your findings and decisions at the end of each step that has one!\n",
    "\n",
    "#### Step 1.1.1: Convert Missing Value Codes to NaNs\n",
    "The fourth column of the feature attributes summary (loaded in above as `feat_info`) documents the codes from the data dictionary that indicate missing or unknown data. While the file encodes this as a list (e.g. `[-1,0]`), this will get read in as a string object. You'll need to do a little bit of parsing to make use of it to identify and clean the data. Convert data that matches a 'missing' or 'unknown' value code into a numpy NaN value. You might want to see how much data takes on a 'missing' or 'unknown' code, and how much data is naturally missing, as a point of interest.\n",
    "\n",
    "**As one more reminder, you are encouraged to add additional cells to break up your analysis into manageable chunks.**"
   ]
  },
  {
   "cell_type": "code",
   "execution_count": 14,
   "metadata": {},
   "outputs": [
    {
     "name": "stdout",
     "output_type": "stream",
     "text": [
      "85\n"
     ]
    }
   ],
   "source": [
    "print(len(feat_info))"
   ]
  },
  {
   "cell_type": "code",
   "execution_count": 5,
   "metadata": {},
   "outputs": [
    {
     "name": "stdout",
     "output_type": "stream",
     "text": [
      "CAMEO_DEUG_2015\n"
     ]
    }
   ],
   "source": [
    "#print(azdias['CAMEO_DEU_2015'][200:300])\n",
    "# Identify missing or unknown data values and convert them to NaNs.\n",
    "for counter1 in range(0,len(feat_info)):\n",
    "    feature_name = feat_info.iloc[counter1][0]\n",
    "    #print(feature_name)\n",
    "    #print(feature_name)\n",
    "    missing = feat_info.iloc[counter1]['missing_or_unknown']\n",
    "    missing = missing.strip('[')\n",
    "    missing = missing.strip(']')\n",
    "    missing = missing.split(',')\n",
    "    \n",
    "    for value in missing:\n",
    "        if ((value != '') and (value != 'X') and (value != 'XX')):\n",
    "            number = int(value)\n",
    "            #print(number)\n",
    "            #print('hello')\n",
    "            azdias[feature_name].replace(int(value),np.nan)\n",
    "            \n",
    "        elif(value == 'X'):\n",
    "            azdias[feature_name].replace({'X':np.nan},inplace=True) \n",
    "            print(feature_name)\n",
    "        elif(value == 'XX'):\n",
    "            #print('hello')\n",
    "            #print(feature_name)\n",
    "            azdias[feature_name].replace({'XX':np.nan},inplace=True)\n",
    "            \n",
    "    for value in azdias[feature_name]:\n",
    "        if value=='XX':\n",
    "            print(value)\n",
    "            \n",
    "#print(azdias['CAMEO_DEU_2015'][200:300])\n",
    "            "
   ]
  },
  {
   "cell_type": "markdown",
   "metadata": {},
   "source": [
    "#### Step 1.1.2: Assess Missing Data in Each Column\n",
    "\n",
    "How much missing data is present in each column? There are a few columns that are outliers in terms of the proportion of values that are missing. You will want to use matplotlib's [`hist()`](https://matplotlib.org/api/_as_gen/matplotlib.pyplot.hist.html) function to visualize the distribution of missing value counts to find these columns. Identify and document these columns. While some of these columns might have justifications for keeping or re-encoding the data, for this project you should just remove them from the dataframe. (Feel free to make remarks about these outlier columns in the discussion, however!)\n",
    "\n",
    "For the remaining features, are there any patterns in which columns have, or share, missing data?"
   ]
  },
  {
   "cell_type": "code",
   "execution_count": 15,
   "metadata": {},
   "outputs": [],
   "source": [
    "# Perform an assessment of how much missing data there is in each column of the\n",
    "# dataset.\n",
    "number_nan_column = pd.isna(azdias).sum(axis=0)\n",
    "#print(number_nan_column)"
   ]
  },
  {
   "cell_type": "code",
   "execution_count": 16,
   "metadata": {},
   "outputs": [
    {
     "data": {
      "image/png": "[encoded data removed]",
      "text/plain": [
       "<matplotlib.figure.Figure at 0x7f48302b1668>"
      ]
     },
     "metadata": {
      "needs_background": "light"
     },
     "output_type": "display_data"
    }
   ],
   "source": [
    "# Investigate patterns in the amount of missing data in each column.\n",
    "\n",
    "plt.hist(number_nan_column,bins=500)\n",
    "\n",
    "plt.show()\n"
   ]
  },
  {
   "cell_type": "code",
   "execution_count": 17,
   "metadata": {},
   "outputs": [],
   "source": [
    "# Remove the outlier columns from the dataset. (You'll perform other data\n",
    "# engineering tasks such as re-encoding and imputation later.)\n",
    "\n",
    "column_larger_than_10 = number_nan_column[number_nan_column > 10]\n",
    "#print(column_larger_than_10)\n",
    "\n",
    "title_columns_larger_than_10 = column_larger_than_10.index.tolist()\n",
    "\n",
    "#print(title_columns_larger_than_10)\n",
    "\n",
    "azdias.drop(columns=title_columns_larger_than_10);"
   ]
  },
  {
   "cell_type": "markdown",
   "metadata": {},
   "source": [
    "#### Discussion 1.1.2: Assess Missing Data in Each Column\n",
    "\n",
    "(Double click this cell and replace this text with your own text, reporting your observations regarding the amount of missing data in each column. Are there any patterns in missing values? Which columns were removed from the dataset?)\n",
    "\n",
    "In several columns the number of nan cells was too high compared to other columns (larger than 10). Those columns were removed. The columns with number of nan > 10 are:\n",
    "'AGER_TYP', 'ALTERSKATEGORIE_GROB', 'CJT_GESAMTTYP', 'GEBURTSJAHR', 'GFK_URLAUBERTYP', 'HEALTH_TYP', 'LP_LEBENSPHASE_FEIN', 'LP_LEBENSPHASE_GROB', 'LP_FAMILIE_FEIN', 'LP_FAMILIE_GROB', 'LP_STATUS_FEIN', 'LP_STATUS_GROB', 'NATIONALITAET_KZ', 'PRAEGENDE_JUGENDJAHRE', 'RETOURTYP_BK_S', 'SHOPPER_TYP', 'SOHO_KZ', 'TITEL_KZ', 'VERS_TYP', 'ALTER_HH', 'ANZ_PERSONEN', 'ANZ_TITEL', 'HH_EINKOMMEN_SCORE', 'KK_KUNDENTYP', 'W_KEIT_KIND_HH', 'WOHNDAUER_2008', 'ANZ_HAUSHALTE_AKTIV', 'ANZ_HH_TITEL', 'GEBAEUDETYP', 'KONSUMNAEHE', 'MIN_GEBAEUDEJAHR', 'OST_WEST_KZ', 'WOHNLAGE', 'CAMEO_DEUG_2015', 'CAMEO_DEU_2015', 'CAMEO_INTL_2015', 'KBA05_ANTG1', 'KBA05_ANTG2', 'KBA05_ANTG3', 'KBA05_ANTG4', 'KBA05_BAUMAX', 'KBA05_GBZ', 'BALLRAUM', 'EWDICHTE', 'INNENSTADT', 'GEBAEUDETYP_RASTER', 'KKK', 'MOBI_REGIO', 'ONLINE_AFFINITAET', 'REGIOTYP', 'KBA13_ANZAHL_PKW', 'PLZ8_ANTG1', 'PLZ8_ANTG2', 'PLZ8_ANTG3', 'PLZ8_ANTG4', 'PLZ8_BAUMAX', 'PLZ8_HHZ', 'PLZ8_GBZ', 'ARBEIT', 'ORTSGR_KLS9', 'RELAT_AB'\n",
    "\n",
    "Of course, other columns could be selected as outliers (with different treshold for removal)."
   ]
  },
  {
   "cell_type": "markdown",
   "metadata": {},
   "source": [
    "#### Step 1.1.3: Assess Missing Data in Each Row\n",
    "\n",
    "Now, you'll perform a similar assessment for the rows of the dataset. How much data is missing in each row? As with the columns, you should see some groups of points that have a very different numbers of missing values. Divide the data into two subsets: one for data points that are above some threshold for missing values, and a second subset for points below that threshold.\n",
    "\n",
    "In order to know what to do with the outlier rows, we should see if the distribution of data values on columns that are not missing data (or are missing very little data) are similar or different between the two groups. Select at least five of these columns and compare the distribution of values.\n",
    "- You can use seaborn's [`countplot()`](https://seaborn.pydata.org/generated/seaborn.countplot.html) function to create a bar chart of code frequencies and matplotlib's [`subplot()`](https://matplotlib.org/api/_as_gen/matplotlib.pyplot.subplot.html) function to put bar charts for the two subplots side by side.\n",
    "- To reduce repeated code, you might want to write a function that can perform this comparison, taking as one of its arguments a column to be compared.\n",
    "\n",
    "Depending on what you observe in your comparison, this will have implications on how you approach your conclusions later in the analysis. If the distributions of non-missing features look similar between the data with many missing values and the data with few or no missing values, then we could argue that simply dropping those points from the analysis won't present a major issue. On the other hand, if the data with many missing values looks very different from the data with few or no missing values, then we should make a note on those data as special. We'll revisit these data later on. **Either way, you should continue your analysis for now using just the subset of the data with few or no missing values.**"
   ]
  },
  {
   "cell_type": "code",
   "execution_count": 18,
   "metadata": {},
   "outputs": [
    {
     "data": {
      "image/png": "[encoded data removed]",
      "text/plain": [
       "<matplotlib.figure.Figure at 0x7f480025a9b0>"
      ]
     },
     "metadata": {
      "needs_background": "light"
     },
     "output_type": "display_data"
    }
   ],
   "source": [
    "# How much data is missing in each row of the dataset?\n",
    "number_nan_row = pd.isna(azdias).sum(axis=1)\n",
    "\n",
    "plt.hist(number_nan_row,bins=500)\n",
    "\n",
    "plt.show()        \n",
    "\n",
    "\n",
    "#plt.plot(number_nan_row.iloc[:,0],number_nan_row.iloc[:,1])\n"
   ]
  },
  {
   "cell_type": "code",
   "execution_count": 10,
   "metadata": {
    "scrolled": false
   },
   "outputs": [
    {
     "data": {
      "text/html": [
       "<div>\n",
       "<style scoped>\n",
       "    .dataframe tbody tr th:only-of-type {\n",
       "        vertical-align: middle;\n",
       "    }\n",
       "\n",
       "    .dataframe tbody tr th {\n",
       "        vertical-align: top;\n",
       "    }\n",
       "\n",
       "    .dataframe thead th {\n",
       "        text-align: right;\n",
       "    }\n",
       "</style>\n",
       "<table border=\"1\" class=\"dataframe\">\n",
       "  <thead>\n",
       "    <tr style=\"text-align: right;\">\n",
       "      <th></th>\n",
       "      <th>AGER_TYP</th>\n",
       "      <th>ALTERSKATEGORIE_GROB</th>\n",
       "      <th>ANREDE_KZ</th>\n",
       "      <th>CJT_GESAMTTYP</th>\n",
       "      <th>FINANZ_MINIMALIST</th>\n",
       "      <th>FINANZ_SPARER</th>\n",
       "      <th>FINANZ_VORSORGER</th>\n",
       "      <th>FINANZ_ANLEGER</th>\n",
       "      <th>FINANZ_UNAUFFAELLIGER</th>\n",
       "      <th>FINANZ_HAUSBAUER</th>\n",
       "      <th>...</th>\n",
       "      <th>PLZ8_ANTG1</th>\n",
       "      <th>PLZ8_ANTG2</th>\n",
       "      <th>PLZ8_ANTG3</th>\n",
       "      <th>PLZ8_ANTG4</th>\n",
       "      <th>PLZ8_BAUMAX</th>\n",
       "      <th>PLZ8_HHZ</th>\n",
       "      <th>PLZ8_GBZ</th>\n",
       "      <th>ARBEIT</th>\n",
       "      <th>ORTSGR_KLS9</th>\n",
       "      <th>RELAT_AB</th>\n",
       "    </tr>\n",
       "  </thead>\n",
       "  <tbody>\n",
       "    <tr>\n",
       "      <th>1</th>\n",
       "      <td>-1</td>\n",
       "      <td>1</td>\n",
       "      <td>2</td>\n",
       "      <td>5.0</td>\n",
       "      <td>1</td>\n",
       "      <td>5</td>\n",
       "      <td>2</td>\n",
       "      <td>5</td>\n",
       "      <td>4</td>\n",
       "      <td>5</td>\n",
       "      <td>...</td>\n",
       "      <td>2.0</td>\n",
       "      <td>3.0</td>\n",
       "      <td>2.0</td>\n",
       "      <td>1.0</td>\n",
       "      <td>1.0</td>\n",
       "      <td>5.0</td>\n",
       "      <td>4.0</td>\n",
       "      <td>3.0</td>\n",
       "      <td>5.0</td>\n",
       "      <td>4.0</td>\n",
       "    </tr>\n",
       "    <tr>\n",
       "      <th>2</th>\n",
       "      <td>-1</td>\n",
       "      <td>3</td>\n",
       "      <td>2</td>\n",
       "      <td>3.0</td>\n",
       "      <td>1</td>\n",
       "      <td>4</td>\n",
       "      <td>1</td>\n",
       "      <td>2</td>\n",
       "      <td>3</td>\n",
       "      <td>5</td>\n",
       "      <td>...</td>\n",
       "      <td>3.0</td>\n",
       "      <td>3.0</td>\n",
       "      <td>1.0</td>\n",
       "      <td>0.0</td>\n",
       "      <td>1.0</td>\n",
       "      <td>4.0</td>\n",
       "      <td>4.0</td>\n",
       "      <td>3.0</td>\n",
       "      <td>5.0</td>\n",
       "      <td>2.0</td>\n",
       "    </tr>\n",
       "    <tr>\n",
       "      <th>3</th>\n",
       "      <td>2</td>\n",
       "      <td>4</td>\n",
       "      <td>2</td>\n",
       "      <td>2.0</td>\n",
       "      <td>4</td>\n",
       "      <td>2</td>\n",
       "      <td>5</td>\n",
       "      <td>2</td>\n",
       "      <td>1</td>\n",
       "      <td>2</td>\n",
       "      <td>...</td>\n",
       "      <td>2.0</td>\n",
       "      <td>2.0</td>\n",
       "      <td>2.0</td>\n",
       "      <td>0.0</td>\n",
       "      <td>1.0</td>\n",
       "      <td>3.0</td>\n",
       "      <td>4.0</td>\n",
       "      <td>2.0</td>\n",
       "      <td>3.0</td>\n",
       "      <td>3.0</td>\n",
       "    </tr>\n",
       "    <tr>\n",
       "      <th>4</th>\n",
       "      <td>-1</td>\n",
       "      <td>3</td>\n",
       "      <td>1</td>\n",
       "      <td>5.0</td>\n",
       "      <td>4</td>\n",
       "      <td>3</td>\n",
       "      <td>4</td>\n",
       "      <td>1</td>\n",
       "      <td>3</td>\n",
       "      <td>2</td>\n",
       "      <td>...</td>\n",
       "      <td>2.0</td>\n",
       "      <td>4.0</td>\n",
       "      <td>2.0</td>\n",
       "      <td>1.0</td>\n",
       "      <td>2.0</td>\n",
       "      <td>3.0</td>\n",
       "      <td>3.0</td>\n",
       "      <td>4.0</td>\n",
       "      <td>6.0</td>\n",
       "      <td>5.0</td>\n",
       "    </tr>\n",
       "    <tr>\n",
       "      <th>5</th>\n",
       "      <td>3</td>\n",
       "      <td>1</td>\n",
       "      <td>2</td>\n",
       "      <td>2.0</td>\n",
       "      <td>3</td>\n",
       "      <td>1</td>\n",
       "      <td>5</td>\n",
       "      <td>2</td>\n",
       "      <td>2</td>\n",
       "      <td>5</td>\n",
       "      <td>...</td>\n",
       "      <td>2.0</td>\n",
       "      <td>3.0</td>\n",
       "      <td>1.0</td>\n",
       "      <td>1.0</td>\n",
       "      <td>1.0</td>\n",
       "      <td>5.0</td>\n",
       "      <td>5.0</td>\n",
       "      <td>2.0</td>\n",
       "      <td>3.0</td>\n",
       "      <td>3.0</td>\n",
       "    </tr>\n",
       "  </tbody>\n",
       "</table>\n",
       "<p>5 rows × 85 columns</p>\n",
       "</div>"
      ],
      "text/plain": [
       "   AGER_TYP  ALTERSKATEGORIE_GROB  ANREDE_KZ  CJT_GESAMTTYP  \\\n",
       "1        -1                     1          2            5.0   \n",
       "2        -1                     3          2            3.0   \n",
       "3         2                     4          2            2.0   \n",
       "4        -1                     3          1            5.0   \n",
       "5         3                     1          2            2.0   \n",
       "\n",
       "   FINANZ_MINIMALIST  FINANZ_SPARER  FINANZ_VORSORGER  FINANZ_ANLEGER  \\\n",
       "1                  1              5                 2               5   \n",
       "2                  1              4                 1               2   \n",
       "3                  4              2                 5               2   \n",
       "4                  4              3                 4               1   \n",
       "5                  3              1                 5               2   \n",
       "\n",
       "   FINANZ_UNAUFFAELLIGER  FINANZ_HAUSBAUER    ...     PLZ8_ANTG1  PLZ8_ANTG2  \\\n",
       "1                      4                 5    ...            2.0         3.0   \n",
       "2                      3                 5    ...            3.0         3.0   \n",
       "3                      1                 2    ...            2.0         2.0   \n",
       "4                      3                 2    ...            2.0         4.0   \n",
       "5                      2                 5    ...            2.0         3.0   \n",
       "\n",
       "   PLZ8_ANTG3  PLZ8_ANTG4  PLZ8_BAUMAX  PLZ8_HHZ  PLZ8_GBZ  ARBEIT  \\\n",
       "1         2.0         1.0          1.0       5.0       4.0     3.0   \n",
       "2         1.0         0.0          1.0       4.0       4.0     3.0   \n",
       "3         2.0         0.0          1.0       3.0       4.0     2.0   \n",
       "4         2.0         1.0          2.0       3.0       3.0     4.0   \n",
       "5         1.0         1.0          1.0       5.0       5.0     2.0   \n",
       "\n",
       "   ORTSGR_KLS9  RELAT_AB  \n",
       "1          5.0       4.0  \n",
       "2          5.0       2.0  \n",
       "3          3.0       3.0  \n",
       "4          6.0       5.0  \n",
       "5          3.0       3.0  \n",
       "\n",
       "[5 rows x 85 columns]"
      ]
     },
     "execution_count": 10,
     "metadata": {},
     "output_type": "execute_result"
    }
   ],
   "source": [
    "# Write code to divide the data into two subsets based on the number of missing\n",
    "# values in each row.\n",
    "\n",
    "rows_nan_lower_5_index = pd.isna(azdias).sum(axis=1)[pd.isna(azdias).sum(axis=1)<5].index.tolist()\n",
    "rows_nan_lower_5 = azdias.iloc[rows_nan_lower_5_index]\n",
    "\n",
    "rows_nan_larger_5_index = pd.isna(azdias).sum(axis=1)[pd.isna(azdias).sum(axis=1)>=5].index.tolist()\n",
    "#print(rows_nan_larger_5_index)\n",
    "rows_nan_larger_5 = azdias.iloc[rows_nan_larger_5_index]\n",
    "\n",
    "rows_nan_lower_5.head(5)\n",
    "#rows_nan_larger_5.head(5)"
   ]
  },
  {
   "cell_type": "code",
   "execution_count": 20,
   "metadata": {},
   "outputs": [
    {
     "name": "stdout",
     "output_type": "stream",
     "text": [
      "['AGER_TYP', 'ALTERSKATEGORIE_GROB', 'ANREDE_KZ', 'FINANZ_MINIMALIST', 'FINANZ_SPARER', 'FINANZ_VORSORGER', 'FINANZ_ANLEGER', 'FINANZ_UNAUFFAELLIGER', 'FINANZ_HAUSBAUER', 'FINANZTYP', 'GEBURTSJAHR', 'GREEN_AVANTGARDE', 'HEALTH_TYP', 'NATIONALITAET_KZ', 'PRAEGENDE_JUGENDJAHRE', 'SEMIO_SOZ', 'SEMIO_FAM', 'SEMIO_REL', 'SEMIO_MAT', 'SEMIO_VERT', 'SEMIO_LUST', 'SEMIO_ERL', 'SEMIO_KULT', 'SEMIO_RAT', 'SEMIO_KRIT', 'SEMIO_DOM', 'SEMIO_KAEM', 'SEMIO_PFLICHT', 'SEMIO_TRADV', 'SHOPPER_TYP', 'VERS_TYP', 'ZABEOTYP']\n"
     ]
    }
   ],
   "source": [
    "# Compare the distribution of values for at least five columns where there are\n",
    "# no or few missing values, between the two subsets.\n",
    "columns_no_nan_index = pd.isna(azdias).sum(axis=0)[pd.isna(azdias).sum(axis=0)<=1].index.tolist()\n",
    "\n",
    "#rows_nan_lower_5 = pd.isna(rows_nan_lower_5[columns_no_nan_index]).sum(axis=1)\n",
    "#print(type(columns_no_nan_index))\n",
    "#rows_nan_larger_5 = pd.isna(rows_nan_larger_5[columns_no_nan_index]).sum(axis=1)\n",
    "print(columns_no_nan_index)\n"
   ]
  },
  {
   "cell_type": "code",
   "execution_count": 21,
   "metadata": {},
   "outputs": [
    {
     "data": {
      "image/png": "[encoded data removed]",
      "text/plain": [
       "<matplotlib.figure.Figure at 0x7f47ffd44400>"
      ]
     },
     "metadata": {
      "needs_background": "light"
     },
     "output_type": "display_data"
    }
   ],
   "source": [
    "fig, axes = plt.subplots(5,2)\n",
    "for counter1 in range(0,5):\n",
    "    sns.countplot(rows_nan_lower_5[columns_no_nan_index[counter1]],ax=axes[counter1,0])\n",
    "    \n",
    "    sns.countplot(rows_nan_larger_5[columns_no_nan_index[counter1]],ax=axes[counter1,1])\n",
    "    \n",
    "  "
   ]
  },
  {
   "cell_type": "markdown",
   "metadata": {},
   "source": [
    "#### Discussion 1.1.3: Assess Missing Data in Each Row\n",
    "\n",
    "(Double-click this cell and replace this text with your own text, reporting your observations regarding missing data in rows. Are the data with lots of missing values are qualitatively different from data with few or no missing values?)\n",
    "\n",
    "Looks like the distribution of features in the rows with small missing amount of numbers is similar to rows with high amount of missing numbers, for some features. Thus, for those features, it makes sense to remove the rows with high amount of missing numbers."
   ]
  },
  {
   "cell_type": "markdown",
   "metadata": {},
   "source": [
    "### Step 1.2: Select and Re-Encode Features\n",
    "\n",
    "Checking for missing data isn't the only way in which you can prepare a dataset for analysis. Since the unsupervised learning techniques to be used will only work on data that is encoded numerically, you need to make a few encoding changes or additional assumptions to be able to make progress. In addition, while almost all of the values in the dataset are encoded using numbers, not all of them represent numeric values. Check the third column of the feature summary (`feat_info`) for a summary of types of measurement.\n",
    "- For numeric and interval data, these features can be kept without changes.\n",
    "- Most of the variables in the dataset are ordinal in nature. While ordinal values may technically be non-linear in spacing, make the simplifying assumption that the ordinal variables can be treated as being interval in nature (that is, kept without any changes).\n",
    "- Special handling may be necessary for the remaining two variable types: categorical, and 'mixed'.\n",
    "\n",
    "In the first two parts of this sub-step, you will perform an investigation of the categorical and mixed-type features and make a decision on each of them, whether you will keep, drop, or re-encode each. Then, in the last part, you will create a new data frame with only the selected and engineered columns.\n",
    "\n",
    "Data wrangling is often the trickiest part of the data analysis process, and there's a lot of it to be done here. But stick with it: once you're done with this step, you'll be ready to get to the machine learning parts of the project!"
   ]
  },
  {
   "cell_type": "code",
   "execution_count": 22,
   "metadata": {},
   "outputs": [],
   "source": [
    "azias = rows_nan_lower_5"
   ]
  },
  {
   "cell_type": "code",
   "execution_count": 24,
   "metadata": {},
   "outputs": [
    {
     "name": "stdout",
     "output_type": "stream",
     "text": [
      "ordinal        49\n",
      "categorical    21\n",
      "mixed           7\n",
      "numeric         7\n",
      "interval        1\n",
      "Name: type, dtype: int64\n"
     ]
    },
    {
     "data": {
      "text/html": [
       "<div>\n",
       "<style scoped>\n",
       "    .dataframe tbody tr th:only-of-type {\n",
       "        vertical-align: middle;\n",
       "    }\n",
       "\n",
       "    .dataframe tbody tr th {\n",
       "        vertical-align: top;\n",
       "    }\n",
       "\n",
       "    .dataframe thead th {\n",
       "        text-align: right;\n",
       "    }\n",
       "</style>\n",
       "<table border=\"1\" class=\"dataframe\">\n",
       "  <thead>\n",
       "    <tr style=\"text-align: right;\">\n",
       "      <th></th>\n",
       "      <th>attribute</th>\n",
       "      <th>information_level</th>\n",
       "      <th>type</th>\n",
       "      <th>missing_or_unknown</th>\n",
       "    </tr>\n",
       "  </thead>\n",
       "  <tbody>\n",
       "    <tr>\n",
       "      <th>0</th>\n",
       "      <td>AGER_TYP</td>\n",
       "      <td>person</td>\n",
       "      <td>categorical</td>\n",
       "      <td>[-1,0]</td>\n",
       "    </tr>\n",
       "    <tr>\n",
       "      <th>1</th>\n",
       "      <td>ALTERSKATEGORIE_GROB</td>\n",
       "      <td>person</td>\n",
       "      <td>ordinal</td>\n",
       "      <td>[-1,0,9]</td>\n",
       "    </tr>\n",
       "    <tr>\n",
       "      <th>2</th>\n",
       "      <td>ANREDE_KZ</td>\n",
       "      <td>person</td>\n",
       "      <td>categorical</td>\n",
       "      <td>[-1,0]</td>\n",
       "    </tr>\n",
       "    <tr>\n",
       "      <th>3</th>\n",
       "      <td>CJT_GESAMTTYP</td>\n",
       "      <td>person</td>\n",
       "      <td>categorical</td>\n",
       "      <td>[0]</td>\n",
       "    </tr>\n",
       "  </tbody>\n",
       "</table>\n",
       "</div>"
      ],
      "text/plain": [
       "              attribute information_level         type missing_or_unknown\n",
       "0              AGER_TYP            person  categorical             [-1,0]\n",
       "1  ALTERSKATEGORIE_GROB            person      ordinal           [-1,0,9]\n",
       "2             ANREDE_KZ            person  categorical             [-1,0]\n",
       "3         CJT_GESAMTTYP            person  categorical                [0]"
      ]
     },
     "execution_count": 24,
     "metadata": {},
     "output_type": "execute_result"
    }
   ],
   "source": [
    "\n",
    "\n",
    "# How many features are there of each data type?\n",
    "\n",
    "\n",
    "features = list(azdias.columns)\n",
    "\n",
    "\n",
    "features = feat_info['attribute']\n",
    "feature_types = feat_info['type']\n",
    "number_feature_type = feature_types.value_counts()\n",
    "print(number_feature_type)\n",
    "\n",
    "feat_info.head(4)"
   ]
  },
  {
   "cell_type": "markdown",
   "metadata": {},
   "source": [
    "#### Step 1.2.1: Re-Encode Categorical Features\n",
    "\n",
    "For categorical data, you would ordinarily need to encode the levels as dummy variables. Depending on the number of categories, perform one of the following:\n",
    "- For binary (two-level) categoricals that take numeric values, you can keep them without needing to do anything.\n",
    "- There is one binary variable that takes on non-numeric values. For this one, you need to re-encode the values as numbers or create a dummy variable.\n",
    "- For multi-level categoricals (three or more values), you can choose to encode the values using multiple dummy variables (e.g. via [OneHotEncoder](http://scikit-learn.org/stable/modules/generated/sklearn.preprocessing.OneHotEncoder.html)), or (to keep things straightforward) just drop them from the analysis. As always, document your choices in the Discussion section."
   ]
  },
  {
   "cell_type": "code",
   "execution_count": 25,
   "metadata": {},
   "outputs": [
    {
     "name": "stdout",
     "output_type": "stream",
     "text": [
      "the binary feature is: ANREDE_KZ [1 2]\n",
      "the binary feature is: GREEN_AVANTGARDE [0 1]\n",
      "the binary feature is: SOHO_KZ [ nan   1.   0.]\n",
      "the binary feature is: OST_WEST_KZ [nan 'W' 'O']\n",
      "multi level features are ['AGER_TYP', 'CJT_GESAMTTYP', 'FINANZTYP', 'GFK_URLAUBERTYP', 'LP_FAMILIE_FEIN', 'LP_FAMILIE_GROB', 'LP_STATUS_FEIN', 'LP_STATUS_GROB', 'NATIONALITAET_KZ', 'SHOPPER_TYP', 'TITEL_KZ', 'VERS_TYP', 'ZABEOTYP', 'KK_KUNDENTYP', 'GEBAEUDETYP', 'CAMEO_DEUG_2015', 'CAMEO_DEU_2015']\n",
      "binary features are ['ANREDE_KZ', 'GREEN_AVANTGARDE', 'SOHO_KZ', 'OST_WEST_KZ']\n"
     ]
    }
   ],
   "source": [
    "# Assess categorical variables: which are binary, which are multi-level, and\n",
    "# which one needs to be re-encoded?\n",
    "categori_features1 = feat_info[feat_info['type']=='categorical']\n",
    "\n",
    "#print(categori_features1)\n",
    "\n",
    "\n",
    "categori_features2 = categori_features1['attribute']\n",
    "#print(categori_features2)\n",
    "\n",
    "\n",
    "binary_features = []\n",
    "multi_level_features = []\n",
    "for feature in categori_features2:\n",
    "    feature_u = len(azdias[feature].dropna().unique())\n",
    "    #print(feature_u)\n",
    "    if feature_u ==2:\n",
    "        print('the binary feature is:',feature,azdias[feature].unique())\n",
    "        binary_features.append(feature)\n",
    "    elif(feature_u > 2):\n",
    "         multi_level_features.append(feature) \n",
    "            \n",
    "print('multi level features are',multi_level_features) \n",
    "print('binary features are',binary_features)  \n",
    "#OST_WEST_KZ needs to be changed\n",
    "#print(azdias['OST_WEST_KZ'])"
   ]
  },
  {
   "cell_type": "code",
   "execution_count": 26,
   "metadata": {},
   "outputs": [],
   "source": [
    "# Re-encode categorical variable(s) to be kept in the analysis.\n",
    "\n",
    "rows_nan_lower_5.replace({'OST_WEST_KZ':{'W':0,'O':1}},inplace=True)\n",
    "\n",
    "#print(azdias['OST_WEST_KZ'])\n",
    "\n",
    "#rows_nan_lower_5[feat_info.iloc[55]['attribute']]\n"
   ]
  },
  {
   "cell_type": "markdown",
   "metadata": {},
   "source": [
    "#### Discussion 1.2.1: Re-Encode Categorical Features\n",
    "\n",
    "(Double-click this cell and replace this text with your own text, reporting your findings and decisions regarding categorical features. Which ones did you keep, which did you drop, and what engineering steps did you perform?)\n",
    "\n",
    "One of the categorial features was composed of W and O (letters) which was changed. Other categorial variables were composed of numbers and I did not change them."
   ]
  },
  {
   "cell_type": "markdown",
   "metadata": {},
   "source": [
    "#### Step 1.2.2: Engineer Mixed-Type Features\n",
    "\n",
    "There are a handful of features that are marked as \"mixed\" in the feature summary that require special treatment in order to be included in the analysis. There are two in particular that deserve attention; the handling of the rest are up to your own choices:\n",
    "- \"PRAEGENDE_JUGENDJAHRE\" combines information on three dimensions: generation by decade, movement (mainstream vs. avantgarde), and nation (east vs. west). While there aren't enough levels to disentangle east from west, you should create two new variables to capture the other two dimensions: an interval-type variable for decade, and a binary variable for movement.\n",
    "- \"CAMEO_INTL_2015\" combines information on two axes: wealth and life stage. Break up the two-digit codes by their 'tens'-place and 'ones'-place digits into two new ordinal variables (which, for the purposes of this project, is equivalent to just treating them as their raw numeric values).\n",
    "- If you decide to keep or engineer new features around the other mixed-type features, make sure you note your steps in the Discussion section.\n",
    "\n",
    "Be sure to check `Data_Dictionary.md` for the details needed to finish these tasks."
   ]
  },
  {
   "cell_type": "code",
   "execution_count": 27,
   "metadata": {},
   "outputs": [],
   "source": [
    "# Investigate \"PRAEGENDE_JUGENDJAHRE\" and engineer two new variables.\n",
    "#print(azdias['PRAEGENDE_JUGENDJAHRE'])\n",
    "\n",
    "rows_nan_lower_5['DECADE']=rows_nan_lower_5['PRAEGENDE_JUGENDJAHRE']\n",
    "rows_nan_lower_5['MOVEMENT']=rows_nan_lower_5['PRAEGENDE_JUGENDJAHRE']\n",
    "\n",
    "rows_nan_lower_5['WEALTH']=rows_nan_lower_5['CAMEO_INTL_2015']\n",
    "rows_nan_lower_5['LIFE_STAGE'] = rows_nan_lower_5['CAMEO_INTL_2015']\n",
    "\n",
    "dict_decade = {1:1, 2:1, 3:2, 4:2, 5:3, 6:3, 7:3, 8:4, 9:4, 10:5, 11:5, 12:5, 13:5, 14:6, 15:6}\n",
    "dict_move = {1:1, 2:0, 3:1, 4:0, 5:1, 6:0, 7:0, 8:1, 9:0, 10:1, 11:0, 12:1, 13:0, 14:1, 15:0}\n",
    "\n",
    "dict_wealth = {'11':1, '12':1, '13':1, '14':1, '15':1, '21':2, '22':2, '23':2, '24':2, '25':2, '31':3, '32':3, '33':3, \n",
    "               '34':3, '35':3, '41':4, '42':4, '43':4, '44':4, '45':4,\n",
    "               '51':5, '52':5, '53':5, '54':5, '55':5}\n",
    "\n",
    "dict_lifestage = {'11':1, '12':2, '13':3, '14':4, '15':5, '21':1, '22':2, '23':3, '24':4, '25':5,'31':1, '32':2, '33':3, \n",
    "                   '34':4, '35':5, '41':1, '42':2, '43':3, '44':4, '45':5,\n",
    "                   '51':1, '52':2, '53':3, '54':4, '55':5}\n",
    "\n",
    "rows_nan_lower_5['DECADE'].replace(dict_decade,inplace=True)\n",
    "rows_nan_lower_5['MOVEMENT'].replace(dict_move,inplace=True)\n",
    "rows_nan_lower_5['WEALTH'].replace(dict_wealth,inplace=True)\n",
    "rows_nan_lower_5['LIFE_STAGE'].replace(dict_lifestage,inplace=True)\n",
    "\n",
    "#print(azdias['LIFE_STAGE'])\n"
   ]
  },
  {
   "cell_type": "code",
   "execution_count": 32,
   "metadata": {},
   "outputs": [
    {
     "name": "stdout",
     "output_type": "stream",
     "text": [
      "15      LP_LEBENSPHASE_FEIN\n",
      "16      LP_LEBENSPHASE_GROB\n",
      "22    PRAEGENDE_JUGENDJAHRE\n",
      "56                 WOHNLAGE\n",
      "59          CAMEO_INTL_2015\n",
      "64             KBA05_BAUMAX\n",
      "79              PLZ8_BAUMAX\n",
      "Name: attribute, dtype: object\n"
     ]
    }
   ],
   "source": [
    "# Investigate \"CAMEO_INTL_2015\" and engineer two new variables.\n",
    "#done above\n",
    "\n",
    "# Assess categorical variables: which are binary, which are multi-level, and\n",
    "# which one needs to be re-encoded?\n",
    "mixed_features1 = feat_info[feat_info['type']=='mixed']\n",
    "mixed_features2 = mixed_features1['attribute']\n",
    "print(mixed_features2)\n",
    "\n",
    "rows_nan_lower_5 = rows_nan_lower_5.drop(['LP_LEBENSPHASE_FEIN'],axis = 1)\n",
    "rows_nan_lower_5 = rows_nan_lower_5.drop(['LP_LEBENSPHASE_GROB'],axis = 1)\n",
    "rows_nan_lower_5 = rows_nan_lower_5.drop(['WOHNLAGE'],axis = 1)\n",
    "rows_nan_lower_5 = rows_nan_lower_5.drop(['KBA05_BAUMAX'],axis = 1)\n",
    "rows_nan_lower_5 = rows_nan_lower_5.drop(['PLZ8_BAUMAX'],axis = 1)\n",
    "rows_nan_lower_5 = rows_nan_lower_5.drop(['PRAEGENDE_JUGENDJAHRE'],axis = 1)\n",
    "rows_nan_lower_5 = rows_nan_lower_5.drop(['CAMEO_INTL_2015'],axis = 1)\n",
    "rows_nan_lower_5 = rows_nan_lower_5.drop(['CAMEO_DEU_2015'],axis = 1)\n",
    "\n",
    "\n"
   ]
  },
  {
   "cell_type": "markdown",
   "metadata": {},
   "source": [
    "#### Discussion 1.2.2: Engineer Mixed-Type Features\n",
    "\n",
    "(Double-click this cell and replace this text with your own text, reporting your findings and decisions regarding mixed-value features. Which ones did you keep, which did you drop, and what engineering steps did you perform?)\n",
    "I added two features for PRAEGENDE_JUGENDJAHRE and two features for CAMEO_INTL_2015, based on the information in Data_Dictionary.md (the old columns were droped). The features below were droped:\n",
    "\n",
    "LP_LEBENSPHASE_FEIN\n",
    "LP_LEBENSPHASE_GROB\n",
    "PRAEGENDE_JUGENDJAHRE\n",
    "WOHNLAGE\n",
    "CAMEO_INTL_2015\n",
    "KBA05_BAUMAX\n",
    "PLZ8_BAUMAX"
   ]
  },
  {
   "cell_type": "markdown",
   "metadata": {},
   "source": [
    "#### Step 1.2.3: Complete Feature Selection\n",
    "\n",
    "In order to finish this step up, you need to make sure that your data frame now only has the columns that you want to keep. To summarize, the dataframe should consist of the following:\n",
    "- All numeric, interval, and ordinal type columns from the original dataset.\n",
    "- Binary categorical features (all numerically-encoded).\n",
    "- Engineered features from other multi-level categorical features and mixed features.\n",
    "\n",
    "Make sure that for any new columns that you have engineered, that you've excluded the original columns from the final dataset. Otherwise, their values will interfere with the analysis later on the project. For example, you should not keep \"PRAEGENDE_JUGENDJAHRE\", since its values won't be useful for the algorithm: only the values derived from it in the engineered features you created should be retained. As a reminder, your data should only be from **the subset with few or no missing values**."
   ]
  },
  {
   "cell_type": "code",
   "execution_count": 262,
   "metadata": {},
   "outputs": [],
   "source": [
    "# If there are other re-engineering tasks you need to perform, make sure you\n",
    "# take care of them here. (Dealing with missing data will come in step 2.1.)\n",
    "\n"
   ]
  },
  {
   "cell_type": "code",
   "execution_count": 263,
   "metadata": {},
   "outputs": [],
   "source": [
    "# Do whatever you need to in order to ensure that the dataframe only contains\n",
    "# the columns that should be passed to the algorithm functions.\n",
    "\n"
   ]
  },
  {
   "cell_type": "markdown",
   "metadata": {},
   "source": [
    "### Step 1.3: Create a Cleaning Function\n",
    "\n",
    "Even though you've finished cleaning up the general population demographics data, it's important to look ahead to the future and realize that you'll need to perform the same cleaning steps on the customer demographics data. In this substep, complete the function below to execute the main feature selection, encoding, and re-engineering steps you performed above. Then, when it comes to looking at the customer data in Step 3, you can just run this function on that DataFrame to get the trimmed dataset in a single step."
   ]
  },
  {
   "cell_type": "code",
   "execution_count": 30,
   "metadata": {},
   "outputs": [],
   "source": [
    "def clean_data(data):\n",
    "    \"\"\"\n",
    "    Perform feature trimming, re-encoding, and engineering for demographics\n",
    "    data\n",
    "    \n",
    "    INPUT: Demographics DataFrame\n",
    "    OUTPUT: Trimmed and cleaned demographics DataFrame\n",
    "    \"\"\"\n",
    "    \n",
    "    # Put in code here to execute all main cleaning steps:\n",
    "    # convert missing value codes into NaNs, ...\n",
    "    for counter1 in range(0,len(feat_info)):\n",
    "        feature_name = feat_info.iloc[counter1][0]\n",
    "\n",
    "        missing = feat_info.iloc[counter1]['missing_or_unknown']\n",
    "        missing = missing.strip('[')\n",
    "        missing = missing.strip(']')\n",
    "        missing = missing.split(',')\n",
    "\n",
    "        for value in missing:\n",
    "            if ((value != '') and (value != 'X') and (value != 'XX')):\n",
    "                number = int(value)\n",
    "                data[feature_name].replace(int(value),np.nan)\n",
    "\n",
    "            elif(value == 'X'):\n",
    "                data[feature_name].replace({'X':np.nan},inplace=True) \n",
    "\n",
    "            elif(value == 'XX'):\n",
    "                data[feature_name].replace({'XX':np.nan},inplace=True)\n",
    "            \n",
    "    \n",
    "       \n",
    "    # remove selected columns and rows, ...\n",
    "    column_to_remove = ['CJT_GESAMTTYP', 'GFK_URLAUBERTYP', 'LP_LEBENSPHASE_FEIN', 'LP_LEBENSPHASE_GROB', \n",
    "                        'LP_FAMILIE_FEIN', 'LP_FAMILIE_GROB', 'LP_STATUS_FEIN', 'LP_STATUS_GROB', \n",
    "                        'RETOURTYP_BK_S', 'SOHO_KZ', 'TITEL_KZ', 'ALTER_HH', 'ANZ_PERSONEN', 'ANZ_TITEL', \n",
    "                        'HH_EINKOMMEN_SCORE', 'KK_KUNDENTYP', 'W_KEIT_KIND_HH', 'WOHNDAUER_2008', \n",
    "                        'ANZ_HAUSHALTE_AKTIV', 'ANZ_HH_TITEL', 'GEBAEUDETYP', 'KONSUMNAEHE', \n",
    "                        'MIN_GEBAEUDEJAHR', 'OST_WEST_KZ', 'WOHNLAGE', 'CAMEO_DEUG_2015', 'CAMEO_DEU_2015', \n",
    "                        'CAMEO_INTL_2015', 'KBA05_ANTG1', 'KBA05_ANTG2', 'KBA05_ANTG3', 'KBA05_ANTG4', \n",
    "                        'KBA05_BAUMAX', 'KBA05_GBZ', 'BALLRAUM', 'EWDICHTE', 'INNENSTADT', 'GEBAEUDETYP_RASTER', \n",
    "                        'KKK', 'MOBI_REGIO', 'ONLINE_AFFINITAET', 'REGIOTYP', 'KBA13_ANZAHL_PKW', \n",
    "                        'PLZ8_ANTG1', 'PLZ8_ANTG2', 'PLZ8_ANTG3', 'PLZ8_ANTG4', 'PLZ8_BAUMAX', 'PLZ8_HHZ', \n",
    "                        'PLZ8_GBZ', 'ARBEIT', 'ORTSGR_KLS9','RELAT_AB']\n",
    "    \n",
    "    data.drop(columns=column_to_remove);\n",
    "    \n",
    "    rows_nan_lower_5_index = pd.isna(data).sum(axis=1)[pd.isna(data).sum(axis=1)<5].index.tolist()\n",
    "    rows_nan_lower_5 = data.iloc[rows_nan_lower_5_index]\n",
    "    \n",
    "    # select, re-encode, and engineer column values.\n",
    "    features = list(rows_nan_lower_5.columns)\n",
    "    features = feat_info['attribute']\n",
    "    feature_types = feat_info['type']\n",
    "    \n",
    "    categori_features1 = feat_info[feat_info['type']=='categorical']\n",
    "    categori_features2 = categori_features1['attribute']\n",
    "\n",
    "    binary_features = []\n",
    "    multi_level_features = []\n",
    "    for feature in categori_features2:\n",
    "        feature_u = len(rows_nan_lower_5[feature].dropna().unique())\n",
    "    \n",
    "        if feature_u ==2:\n",
    "            print('the binary feature is:',feature,rows_nan_lower_5[feature].unique())\n",
    "            binary_features.append(feature)\n",
    "        elif(feature_u > 2):\n",
    "             multi_level_features.append(feature) \n",
    "                \n",
    "    rows_nan_lower_5.replace({'OST_WEST_KZ':{'W':0,'O':1}},inplace=True)\n",
    "    \n",
    "    rows_nan_lower_5['DECADE']=rows_nan_lower_5['PRAEGENDE_JUGENDJAHRE']\n",
    "    rows_nan_lower_5['MOVEMENT']=rows_nan_lower_5['PRAEGENDE_JUGENDJAHRE']\n",
    "\n",
    "    rows_nan_lower_5['WEALTH']=rows_nan_lower_5['CAMEO_INTL_2015']\n",
    "    rows_nan_lower_5['LIFE_STAGE'] = rows_nan_lower_5['CAMEO_INTL_2015']\n",
    "\n",
    "    dict_decade = {1:1, 2:1, 3:2, 4:2, 5:3, 6:3, 7:3, 8:4, 9:4, 10:5, 11:5, 12:5, 13:5, 14:6, 15:6}\n",
    "    dict_move = {1:1, 2:0, 3:1, 4:0, 5:1, 6:0, 7:0, 8:1, 9:0, 10:1, 11:0, 12:1, 13:0, 14:1, 15:0}\n",
    "\n",
    "    dict_wealth = {'11':1, '12':1, '13':1, '14':1, '15':1, '21':2, '22':2, '23':2, '24':2, '25':2, '31':3, '32':3, '33':3, \n",
    "               '34':3, '35':3, '41':4, '42':4, '43':4, '44':4, '45':4,\n",
    "               '51':5, '52':5, '53':5, '54':5, '55':5}\n",
    "\n",
    "    dict_lifestage = {'11':1, '12':2, '13':3, '14':4, '15':5, '21':1, '22':2, '23':3, '24':4, '25':5,'31':1, '32':2, '33':3, \n",
    "                   '34':4, '35':5, '41':1, '42':2, '43':3, '44':4, '45':5,\n",
    "                   '51':1, '52':2, '53':3, '54':4, '55':5}\n",
    "\n",
    "    rows_nan_lower_5['DECADE'].replace(dict_decade,inplace=True)\n",
    "    rows_nan_lower_5['MOVEMENT'].replace(dict_move,inplace=True)\n",
    "    rows_nan_lower_5['WEALTH'].replace(dict_wealth,inplace=True)\n",
    "    rows_nan_lower_5['LIFE_STAGE'].replace(dict_lifestage,inplace=True)\n",
    "    \n",
    "    #mixed_features1 = feat_info[feat_info['type']=='mixed']\n",
    "    #mixed_features2 = mixed_features1['attribute']\n",
    "\n",
    "\n",
    "    rows_nan_lower_5 = rows_nan_lower_5.drop(['LP_LEBENSPHASE_FEIN'],axis = 1)\n",
    "    rows_nan_lower_5 = rows_nan_lower_5.drop(['LP_LEBENSPHASE_GROB'],axis = 1)\n",
    "    rows_nan_lower_5 = rows_nan_lower_5.drop(['WOHNLAGE'],axis = 1)\n",
    "    rows_nan_lower_5 = rows_nan_lower_5.drop(['KBA05_BAUMAX'],axis = 1)\n",
    "    rows_nan_lower_5 = rows_nan_lower_5.drop(['PLZ8_BAUMAX'],axis = 1)\n",
    "    rows_nan_lower_5 = rows_nan_lower_5.drop(['PRAEGENDE_JUGENDJAHRE'],axis = 1)\n",
    "    rows_nan_lower_5 = rows_nan_lower_5.drop(['CAMEO_INTL_2015'],axis = 1)\n",
    "    rows_nan_lower_5 = rows_nan_lower_5.drop(['CAMEO_DEU_2015'],axis = 1)\n",
    "    \n",
    "\n",
    "    return rows_nan_lower_5\n",
    "    # Return the cleaned dataframe.\n",
    "    \n",
    "    "
   ]
  },
  {
   "cell_type": "markdown",
   "metadata": {},
   "source": [
    "## Step 2: Feature Transformation\n",
    "\n",
    "### Step 2.1: Apply Feature Scaling\n",
    "\n",
    "Before we apply dimensionality reduction techniques to the data, we need to perform feature scaling so that the principal component vectors are not influenced by the natural differences in scale for features. Starting from this part of the project, you'll want to keep an eye on the [API reference page for sklearn](http://scikit-learn.org/stable/modules/classes.html) to help you navigate to all of the classes and functions that you'll need. In this substep, you'll need to check the following:\n",
    "\n",
    "- sklearn requires that data not have missing values in order for its estimators to work properly. So, before applying the scaler to your data, make sure that you've cleaned the DataFrame of the remaining missing values. This can be as simple as just removing all data points with missing data, or applying an [Imputer](http://scikit-learn.org/stable/modules/generated/sklearn.preprocessing.Imputer.html) to replace all missing values. You might also try a more complicated procedure where you temporarily remove missing values in order to compute the scaling parameters before re-introducing those missing values and applying imputation. Think about how much missing data you have and what possible effects each approach might have on your analysis, and justify your decision in the discussion section below.\n",
    "- For the actual scaling function, a [StandardScaler](http://scikit-learn.org/stable/modules/generated/sklearn.preprocessing.StandardScaler.html) instance is suggested, scaling each feature to mean 0 and standard deviation 1.\n",
    "- For these classes, you can make use of the `.fit_transform()` method to both fit a procedure to the data as well as apply the transformation to the data at the same time. Don't forget to keep the fit sklearn objects handy, since you'll be applying them to the customer demographics data towards the end of the project."
   ]
  },
  {
   "cell_type": "code",
   "execution_count": 1,
   "metadata": {},
   "outputs": [
    {
     "data": {
      "text/plain": [
       "\"feat_info.head(10)\\nrows_nan_lower_5[feat_info.iloc[58]['attribute']]\\nprint(feat_info.iloc[58][0])\""
      ]
     },
     "execution_count": 1,
     "metadata": {},
     "output_type": "execute_result"
    }
   ],
   "source": [
    "'''feat_info.head(10)\n",
    "rows_nan_lower_5[feat_info.iloc[58]['attribute']]\n",
    "print(feat_info.iloc[58][0])'''"
   ]
  },
  {
   "cell_type": "code",
   "execution_count": 33,
   "metadata": {},
   "outputs": [],
   "source": [
    "# If you've not yet cleaned the dataset of all NaN values, then investigate and\n",
    "# do that now.\n",
    "from sklearn.preprocessing import Imputer\n",
    "imputer_actor = Imputer(strategy='mean')\n",
    "rows_nan_lower_5_imputed = imputer_actor.fit_transform(rows_nan_lower_5)"
   ]
  },
  {
   "cell_type": "code",
   "execution_count": 34,
   "metadata": {},
   "outputs": [],
   "source": [
    "rows_nan_lower_5_imputed = pd.DataFrame(rows_nan_lower_5_imputed)"
   ]
  },
  {
   "cell_type": "code",
   "execution_count": 35,
   "metadata": {},
   "outputs": [],
   "source": [
    "rows_nan_lower_5_imputed.columns = rows_nan_lower_5.columns\n",
    "rows_nan_lower_5_imputed.index = rows_nan_lower_5.index"
   ]
  },
  {
   "cell_type": "code",
   "execution_count": 36,
   "metadata": {},
   "outputs": [],
   "source": [
    "# Apply feature scaling to the general population demographics data.\n",
    "from sklearn.preprocessing import StandardScaler\n",
    "feature_scaler = StandardScaler()\n",
    "rows_nan_lower_5_imputed_scaled = feature_scaler.fit_transform(rows_nan_lower_5_imputed)\n",
    "rows_nan_lower_5_imputed_scaled = pd.DataFrame(rows_nan_lower_5_imputed_scaled)"
   ]
  },
  {
   "cell_type": "markdown",
   "metadata": {},
   "source": [
    "### Discussion 2.1: Apply Feature Scaling\n",
    "\n",
    "(Double-click this cell and replace this text with your own text, reporting your decisions regarding feature scaling.)\n",
    "For this step, the nan values were replaced with the mean values of each feature, and then the scaler was fitted and applied on the data. Before this step, the necessary cleaning was done."
   ]
  },
  {
   "cell_type": "markdown",
   "metadata": {},
   "source": [
    "### Step 2.2: Perform Dimensionality Reduction\n",
    "\n",
    "On your scaled data, you are now ready to apply dimensionality reduction techniques.\n",
    "\n",
    "- Use sklearn's [PCA](http://scikit-learn.org/stable/modules/generated/sklearn.decomposition.PCA.html) class to apply principal component analysis on the data, thus finding the vectors of maximal variance in the data. To start, you should not set any parameters (so all components are computed) or set a number of components that is at least half the number of features (so there's enough features to see the general trend in variability).\n",
    "- Check out the ratio of variance explained by each principal component as well as the cumulative variance explained. Try plotting the cumulative or sequential values using matplotlib's [`plot()`](https://matplotlib.org/api/_as_gen/matplotlib.pyplot.plot.html) function. Based on what you find, select a value for the number of transformed features you'll retain for the clustering part of the project.\n",
    "- Once you've made a choice for the number of components to keep, make sure you re-fit a PCA instance to perform the decided-on transformation."
   ]
  },
  {
   "cell_type": "code",
   "execution_count": 37,
   "metadata": {},
   "outputs": [
    {
     "data": {
      "text/plain": [
       "PCA(copy=True, iterated_power='auto', n_components=None, random_state=None,\n",
       "  svd_solver='auto', tol=0.0, whiten=False)"
      ]
     },
     "execution_count": 37,
     "metadata": {},
     "output_type": "execute_result"
    }
   ],
   "source": [
    "# Apply PCA to the data.\n",
    "from sklearn.decomposition import PCA\n",
    "pca = PCA()\n",
    "pca.fit(rows_nan_lower_5_imputed_scaled)"
   ]
  },
  {
   "cell_type": "code",
   "execution_count": 38,
   "metadata": {},
   "outputs": [
    {
     "name": "stdout",
     "output_type": "stream",
     "text": [
      "81\n"
     ]
    },
    {
     "data": {
      "text/plain": [
       "<function matplotlib.pyplot.show(*args, **kw)>"
      ]
     },
     "execution_count": 38,
     "metadata": {},
     "output_type": "execute_result"
    },
    {
     "data": {
      "image/png": "[encoded data removed]",
      "text/plain": [
       "<matplotlib.figure.Figure at 0x7f47deea3be0>"
      ]
     },
     "metadata": {
      "needs_background": "light"
     },
     "output_type": "display_data"
    }
   ],
   "source": [
    "# Investigate the variance accounted for by each principal component.\n",
    "plt.subplot(121)\n",
    "plt.bar(range(len(pca.explained_variance_ratio_)),pca.explained_variance_ratio_)\n",
    "print(len(pca.explained_variance_ratio_))\n",
    "\n",
    "\n",
    "var_cum = []\n",
    "var_sum = 0\n",
    "for counter5 in range(0,len(pca.explained_variance_ratio_)):\n",
    "    var_sum += pca.explained_variance_ratio_[counter5]\n",
    "    var_cum.append(var_sum)\n",
    "    \n",
    "plt.subplot(122)\n",
    "plt.plot(range(len(var_cum)),var_cum)    \n",
    "plt.grid(True)\n",
    "plt.show"
   ]
  },
  {
   "cell_type": "code",
   "execution_count": 39,
   "metadata": {},
   "outputs": [],
   "source": [
    "# Re-apply PCA to the data while selecting for number of components to retain.\n",
    "PC_50_components = PCA(n_components=50)\n",
    "p_components = PC_50_components.fit_transform(rows_nan_lower_5_imputed_scaled)"
   ]
  },
  {
   "cell_type": "markdown",
   "metadata": {},
   "source": [
    "### Discussion 2.2: Perform Dimensionality Reduction\n",
    "\n",
    "(Double-click this cell and replace this text with your own text, reporting your findings and decisions regarding dimensionality reduction. How many principal components / transformed features are you retaining for the next step of the analysis?)\n",
    "\n",
    "Based on the cumulative variance seen by principal components, I select 50 principal components because they represent more than 90% of the data variance. "
   ]
  },
  {
   "cell_type": "markdown",
   "metadata": {},
   "source": [
    "### Step 2.3: Interpret Principal Components\n",
    "\n",
    "Now that we have our transformed principal components, it's a nice idea to check out the weight of each variable on the first few components to see if they can be interpreted in some fashion.\n",
    "\n",
    "As a reminder, each principal component is a unit vector that points in the direction of highest variance (after accounting for the variance captured by earlier principal components). The further a weight is from zero, the more the principal component is in the direction of the corresponding feature. If two features have large weights of the same sign (both positive or both negative), then increases in one tend expect to be associated with increases in the other. To contrast, features with different signs can be expected to show a negative correlation: increases in one variable should result in a decrease in the other.\n",
    "\n",
    "- To investigate the features, you should map each weight to their corresponding feature name, then sort the features according to weight. The most interesting features for each principal component, then, will be those at the beginning and end of the sorted list. Use the data dictionary document to help you understand these most prominent features, their relationships, and what a positive or negative value on the principal component might indicate.\n",
    "- You should investigate and interpret feature associations from the first three principal components in this substep. To help facilitate this, you should write a function that you can call at any time to print the sorted list of feature weights, for the *i*-th principal component. This might come in handy in the next step of the project, when you interpret the tendencies of the discovered clusters."
   ]
  },
  {
   "cell_type": "code",
   "execution_count": 40,
   "metadata": {},
   "outputs": [],
   "source": [
    "# Map weights for the first principal component to corresponding feature names\n",
    "# and then print the linked values, sorted by weight.\n",
    "# HINT: Try defining a function here or in a new cell that you can reuse in the\n",
    "# other cells.\n",
    "\n",
    "rows_nan_lower_5_imputed_scaled.columns = rows_nan_lower_5_imputed.columns\n",
    "def pc_function(pca,n_pc):\n",
    "    p_components = pca.fit_transform(rows_nan_lower_5_imputed_scaled)\n",
    "    #print(p_components)\n",
    "    df_pcs = pd.DataFrame(pca.components_,columns=list(rows_nan_lower_5_imputed_scaled.columns))\n",
    "    pc_weights = df_pcs.iloc[n_pc]\n",
    "    return pc_weights\n",
    "\n"
   ]
  },
  {
   "cell_type": "code",
   "execution_count": 31,
   "metadata": {},
   "outputs": [
    {
     "name": "stdout",
     "output_type": "stream",
     "text": [
      "MOBI_REGIO              -0.226128\n",
      "LP_STATUS_FEIN          -0.222518\n",
      "LP_STATUS_GROB          -0.221233\n",
      "KBA05_ANTG1             -0.211856\n",
      "FINANZ_MINIMALIST       -0.204103\n",
      "PLZ8_ANTG1              -0.202235\n",
      "KBA05_GBZ               -0.201937\n",
      "PLZ8_GBZ                -0.148959\n",
      "KONSUMNAEHE             -0.148027\n",
      "INNENSTADT              -0.140856\n",
      "LIFE_STAGE              -0.117015\n",
      "GREEN_AVANTGARDE        -0.115580\n",
      "BALLRAUM                -0.106861\n",
      "GEBAEUDETYP_RASTER      -0.103153\n",
      "FINANZ_VORSORGER        -0.091545\n",
      "ANZ_PERSONEN            -0.087733\n",
      "ALTERSKATEGORIE_GROB    -0.085765\n",
      "LP_FAMILIE_GROB         -0.085764\n",
      "LP_FAMILIE_FEIN         -0.084749\n",
      "KBA13_ANZAHL_PKW        -0.068891\n",
      "SEMIO_LUST              -0.059868\n",
      "AGER_TYP                -0.058590\n",
      "FINANZTYP               -0.058220\n",
      "WOHNDAUER_2008          -0.057452\n",
      "ONLINE_AFFINITAET       -0.055736\n",
      "SEMIO_ERL               -0.053892\n",
      "MIN_GEBAEUDEJAHR        -0.052177\n",
      "SEMIO_VERT              -0.041741\n",
      "ALTER_HH                -0.025319\n",
      "GEBURTSJAHR             -0.022869\n",
      "                           ...   \n",
      "FINANZ_ANLEGER           0.057159\n",
      "DECADE                   0.057352\n",
      "SEMIO_FAM                0.058493\n",
      "KKK                      0.059003\n",
      "FINANZ_UNAUFFAELLIGER    0.059990\n",
      "GFK_URLAUBERTYP          0.062049\n",
      "SEMIO_MAT                0.064747\n",
      "SEMIO_TRADV              0.065688\n",
      "GEBAEUDETYP              0.067305\n",
      "SEMIO_RAT                0.076769\n",
      "REGIOTYP                 0.079839\n",
      "SEMIO_REL                0.085049\n",
      "SEMIO_PFLICHT            0.090186\n",
      "MOVEMENT                 0.098714\n",
      "RELAT_AB                 0.118043\n",
      "FINANZ_SPARER            0.122502\n",
      "ANZ_HAUSHALTE_AKTIV      0.125447\n",
      "ARBEIT                   0.125601\n",
      "KBA05_ANTG3              0.128281\n",
      "ZABEOTYP                 0.133678\n",
      "PLZ8_ANTG2               0.137232\n",
      "KBA05_ANTG4              0.139927\n",
      "FINANZ_HAUSBAUER         0.159877\n",
      "EWDICHTE                 0.168909\n",
      "ORTSGR_KLS9              0.170500\n",
      "PLZ8_ANTG4               0.194294\n",
      "WEALTH                   0.198287\n",
      "HH_EINKOMMEN_SCORE       0.200170\n",
      "CAMEO_DEUG_2015          0.201298\n",
      "PLZ8_ANTG3               0.201425\n",
      "Name: 0, Length: 81, dtype: float64\n"
     ]
    }
   ],
   "source": [
    "weights_first_pc = pc_function(PC_50_components,0).sort_values()\n",
    "print(weights_first_pc)"
   ]
  },
  {
   "cell_type": "code",
   "execution_count": 41,
   "metadata": {},
   "outputs": [],
   "source": [
    "# Map weights for the second principal component to corresponding feature names\n",
    "# and then print the linked values, sorted by weight.\n",
    "weights_second_pc = pc_function(PC_50_components,1).sort_values()\n"
   ]
  },
  {
   "cell_type": "code",
   "execution_count": 364,
   "metadata": {},
   "outputs": [
    {
     "name": "stdout",
     "output_type": "stream",
     "text": [
      "SEMIO_REL               -0.246218\n",
      "FINANZ_SPARER           -0.240895\n",
      "DECADE                  -0.235864\n",
      "SEMIO_PFLICHT           -0.228849\n",
      "SEMIO_TRADV             -0.228608\n",
      "FINANZ_UNAUFFAELLIGER   -0.227371\n",
      "FINANZ_ANLEGER          -0.207633\n",
      "SEMIO_KULT              -0.205403\n",
      "SEMIO_RAT               -0.175499\n",
      "ONLINE_AFFINITAET       -0.169142\n",
      "SEMIO_FAM               -0.168036\n",
      "SEMIO_MAT               -0.154384\n",
      "CJT_GESAMTTYP           -0.126236\n",
      "ALTER_HH                -0.100504\n",
      "SEMIO_SOZ               -0.090958\n",
      "LP_FAMILIE_GROB         -0.077258\n",
      "LP_FAMILIE_FEIN         -0.076406\n",
      "KBA05_GBZ               -0.070268\n",
      "MOBI_REGIO              -0.070062\n",
      "PLZ8_ANTG1              -0.069819\n",
      "ANZ_PERSONEN            -0.069645\n",
      "KBA05_ANTG1             -0.061982\n",
      "NATIONALITAET_KZ        -0.058193\n",
      "PLZ8_GBZ                -0.055912\n",
      "INNENSTADT              -0.055743\n",
      "GEBURTSJAHR             -0.054557\n",
      "KONSUMNAEHE             -0.051175\n",
      "SEMIO_VERT              -0.049292\n",
      "BALLRAUM                -0.044757\n",
      "GFK_URLAUBERTYP         -0.040226\n",
      "                           ...   \n",
      "KK_KUNDENTYP             0.028644\n",
      "KBA05_ANTG3              0.032576\n",
      "HH_EINKOMMEN_SCORE       0.038314\n",
      "PLZ8_ANTG2               0.047950\n",
      "ANZ_HAUSHALTE_AKTIV      0.049080\n",
      "SEMIO_DOM                0.049116\n",
      "RELAT_AB                 0.049511\n",
      "ARBEIT                   0.052903\n",
      "CAMEO_DEUG_2015          0.053659\n",
      "KBA05_ANTG4              0.056299\n",
      "WEALTH                   0.058586\n",
      "WOHNDAUER_2008           0.061285\n",
      "PLZ8_ANTG4               0.067463\n",
      "ORTSGR_KLS9              0.067660\n",
      "EWDICHTE                 0.068832\n",
      "ANREDE_KZ                0.070471\n",
      "PLZ8_ANTG3               0.070850\n",
      "FINANZ_MINIMALIST        0.085757\n",
      "SEMIO_KAEM               0.088687\n",
      "SHOPPER_TYP              0.089392\n",
      "FINANZ_HAUSBAUER         0.100623\n",
      "SEMIO_KRIT               0.104380\n",
      "FINANZTYP                0.108943\n",
      "W_KEIT_KIND_HH           0.122925\n",
      "AGER_TYP                 0.160952\n",
      "RETOURTYP_BK_S           0.167029\n",
      "SEMIO_LUST               0.178435\n",
      "SEMIO_ERL                0.217742\n",
      "FINANZ_VORSORGER         0.235778\n",
      "ALTERSKATEGORIE_GROB     0.244009\n",
      "Name: 1, Length: 81, dtype: float64\n"
     ]
    }
   ],
   "source": [
    "print(weights_second_pc)"
   ]
  },
  {
   "cell_type": "code",
   "execution_count": 42,
   "metadata": {},
   "outputs": [
    {
     "name": "stdout",
     "output_type": "stream",
     "text": [
      "ANREDE_KZ               -0.367909\n",
      "SEMIO_KAEM              -0.337640\n",
      "SEMIO_DOM               -0.310313\n",
      "SEMIO_KRIT              -0.270561\n",
      "SEMIO_RAT               -0.196142\n",
      "SEMIO_ERL               -0.189256\n",
      "FINANZ_ANLEGER          -0.169145\n",
      "SHOPPER_TYP             -0.092431\n",
      "FINANZ_SPARER           -0.086014\n",
      "FINANZ_UNAUFFAELLIGER   -0.085326\n",
      "DECADE                  -0.066790\n",
      "SEMIO_TRADV             -0.057391\n",
      "SEMIO_PFLICHT           -0.057137\n",
      "ZABEOTYP                -0.056938\n",
      "FINANZ_HAUSBAUER        -0.050190\n",
      "ONLINE_AFFINITAET       -0.048593\n",
      "PLZ8_ANTG1              -0.048474\n",
      "INNENSTADT              -0.042404\n",
      "PLZ8_GBZ                -0.041444\n",
      "KONSUMNAEHE             -0.037273\n",
      "BALLRAUM                -0.033206\n",
      "MOBI_REGIO              -0.032055\n",
      "MOVEMENT                -0.030592\n",
      "CJT_GESAMTTYP           -0.030392\n",
      "GEBAEUDETYP_RASTER      -0.030351\n",
      "ALTER_HH                -0.028092\n",
      "KBA05_GBZ               -0.027658\n",
      "KBA05_ANTG1             -0.026164\n",
      "KBA13_ANZAHL_PKW        -0.025961\n",
      "LP_FAMILIE_GROB         -0.024892\n",
      "                           ...   \n",
      "HEALTH_TYP               0.022154\n",
      "ANZ_HAUSHALTE_AKTIV      0.025449\n",
      "WOHNDAUER_2008           0.026331\n",
      "KBA05_ANTG4              0.028376\n",
      "PLZ8_ANTG2               0.029386\n",
      "RELAT_AB                 0.031216\n",
      "WEALTH                   0.032440\n",
      "CAMEO_DEUG_2015          0.032768\n",
      "LP_STATUS_GROB           0.033716\n",
      "ARBEIT                   0.036925\n",
      "GREEN_AVANTGARDE         0.041285\n",
      "VERS_TYP                 0.041616\n",
      "SEMIO_LUST               0.042896\n",
      "EWDICHTE                 0.044644\n",
      "ORTSGR_KLS9              0.046043\n",
      "PLZ8_ANTG3               0.046150\n",
      "PLZ8_ANTG4               0.046998\n",
      "ALTERSKATEGORIE_GROB     0.049888\n",
      "SEMIO_MAT                0.066290\n",
      "AGER_TYP                 0.067012\n",
      "FINANZ_VORSORGER         0.080169\n",
      "SEMIO_REL                0.089981\n",
      "W_KEIT_KIND_HH           0.090299\n",
      "RETOURTYP_BK_S           0.098579\n",
      "FINANZTYP                0.110518\n",
      "FINANZ_MINIMALIST        0.146579\n",
      "SEMIO_KULT               0.245575\n",
      "SEMIO_FAM                0.259407\n",
      "SEMIO_SOZ                0.266859\n",
      "SEMIO_VERT               0.341997\n",
      "Name: 2, Length: 81, dtype: float64\n"
     ]
    }
   ],
   "source": [
    "# Map weights for the third principal component to corresponding feature names\n",
    "# and then print the linked values, sorted by weight.\n",
    "\n",
    "weights_third_pc = pc_function(PC_50_components,2).sort_values()\n",
    "print(weights_third_pc)"
   ]
  },
  {
   "cell_type": "markdown",
   "metadata": {},
   "source": [
    "### Discussion 2.3: Interpret Principal Components\n",
    "\n",
    "(Double-click this cell and replace this text with your own text, reporting your observations from detailed investigation of the first few principal components generated. Can we interpret positive and negative values from them in a meaningful way?)\n",
    "\n",
    "In the first PC, PLZ8_ANTG3 has the highest weight. Which means that for this PC the share of 6-10 family homes has the highest contribution in a positive way. On the other hand, for this PC, MOBI_REGIO has a high negative weight which means that as the number of 6-10 family homes increases, mobility increases. In other words, PLZ8_ANTG3 and MOBI_REGIO have negative correlation.\n",
    "\n",
    "Similar interpretations can be made for other PCs. In the third PC, SEMIO_VERT has the highest positive weight. In this PC, BALLRAUM has a negative weight. As such, these two features are correlated in a negative way. As the person becomes less dreamful, the distance to nearest urban center decreases.\n"
   ]
  },
  {
   "cell_type": "markdown",
   "metadata": {},
   "source": [
    "## Step 3: Clustering\n",
    "\n",
    "### Step 3.1: Apply Clustering to General Population\n",
    "\n",
    "You've assessed and cleaned the demographics data, then scaled and transformed them. Now, it's time to see how the data clusters in the principal components space. In this substep, you will apply k-means clustering to the dataset and use the average within-cluster distances from each point to their assigned cluster's centroid to decide on a number of clusters to keep.\n",
    "\n",
    "- Use sklearn's [KMeans](http://scikit-learn.org/stable/modules/generated/sklearn.cluster.KMeans.html#sklearn.cluster.KMeans) class to perform k-means clustering on the PCA-transformed data.\n",
    "- Then, compute the average difference from each point to its assigned cluster's center. **Hint**: The KMeans object's `.score()` method might be useful here, but note that in sklearn, scores tend to be defined so that larger is better. Try applying it to a small, toy dataset, or use an internet search to help your understanding.\n",
    "- Perform the above two steps for a number of different cluster counts. You can then see how the average distance decreases with an increasing number of clusters. However, each additional cluster provides a smaller net benefit. Use this fact to select a final number of clusters in which to group the data. **Warning**: because of the large size of the dataset, it can take a long time for the algorithm to resolve. The more clusters to fit, the longer the algorithm will take. You should test for cluster counts through at least 10 clusters to get the full picture, but you shouldn't need to test for a number of clusters above about 30.\n",
    "- Once you've selected a final number of clusters to use, re-fit a KMeans instance to perform the clustering operation. Make sure that you also obtain the cluster assignments for the general demographics data, since you'll be using them in the final Step 3.3."
   ]
  },
  {
   "cell_type": "code",
   "execution_count": 46,
   "metadata": {},
   "outputs": [],
   "source": [
    "pca_fitted = PC_50_components.fit_transform(rows_nan_lower_5_imputed_scaled)\n",
    "from sklearn.cluster import KMeans\n",
    "# Over a number of different cluster counts...\n",
    "def function_cluster(general_data,cluster_number):\n",
    "    cluster_model = KMeans(n_clusters = cluster_number)\n",
    "    clustered = cluster_model.fit(general_data)\n",
    "    score = np.abs(cluster_model.score(general_data))\n",
    "    return score\n",
    "    # run k-means clustering on the data and...\n",
    "    # compute the average within-cluster distances.\n",
    "cluster_score = []    \n",
    "counts = [1,3,5,8,10,15,20]\n",
    "for count in counts:\n",
    "    score = function_cluster(pca_fitted,count)\n",
    "    cluster_score.append(score)  \n",
    "    \n",
    "    "
   ]
  },
  {
   "cell_type": "code",
   "execution_count": 39,
   "metadata": {},
   "outputs": [
    {
     "data": {
      "text/plain": [
       "[<matplotlib.lines.Line2D at 0x7f6ca62d1eb8>]"
      ]
     },
     "execution_count": 39,
     "metadata": {},
     "output_type": "execute_result"
    },
    {
     "data": {
      "image/png": "[encoded data removed]",
      "text/plain": [
       "<matplotlib.figure.Figure at 0x7f6ca6256978>"
      ]
     },
     "metadata": {
      "needs_background": "light"
     },
     "output_type": "display_data"
    }
   ],
   "source": [
    "# Investigate the change in within-cluster distance across number of clusters.\n",
    "# HINT: Use matplotlib's plot function to visualize this relationship.\n",
    "plt.plot(counts,cluster_score)\n"
   ]
  },
  {
   "cell_type": "code",
   "execution_count": 47,
   "metadata": {},
   "outputs": [
    {
     "ename": "NameError",
     "evalue": "name 'cluster_model' is not defined",
     "output_type": "error",
     "traceback": [
      "\u001b[0;31m---------------------------------------------------------------------------\u001b[0m",
      "\u001b[0;31mNameError\u001b[0m                                 Traceback (most recent call last)",
      "\u001b[0;32m<ipython-input-47-2ea08e2a89a1>\u001b[0m in \u001b[0;36m<module>\u001b[0;34m()\u001b[0m\n\u001b[1;32m      2\u001b[0m \u001b[0;31m# cluster predictions for the general population demographics data.\u001b[0m\u001b[0;34m\u001b[0m\u001b[0;34m\u001b[0m\u001b[0m\n\u001b[1;32m      3\u001b[0m \u001b[0mcluster_model_15\u001b[0m \u001b[0;34m=\u001b[0m \u001b[0mKMeans\u001b[0m\u001b[0;34m(\u001b[0m\u001b[0mn_clusters\u001b[0m \u001b[0;34m=\u001b[0m \u001b[0;36m15\u001b[0m\u001b[0;34m)\u001b[0m\u001b[0;34m\u001b[0m\u001b[0m\n\u001b[0;32m----> 4\u001b[0;31m \u001b[0mclustered_15\u001b[0m \u001b[0;34m=\u001b[0m \u001b[0mcluster_model\u001b[0m\u001b[0;34m.\u001b[0m\u001b[0mfit\u001b[0m\u001b[0;34m(\u001b[0m\u001b[0mpca_fitted\u001b[0m\u001b[0;34m)\u001b[0m\u001b[0;34m\u001b[0m\u001b[0m\n\u001b[0m\u001b[1;32m      5\u001b[0m \u001b[0mgeneral_clustered\u001b[0m \u001b[0;34m=\u001b[0m \u001b[0mclustered_15\u001b[0m\u001b[0;34m.\u001b[0m\u001b[0mpredict\u001b[0m\u001b[0;34m(\u001b[0m\u001b[0mpca_fitted\u001b[0m\u001b[0;34m)\u001b[0m\u001b[0;34m\u001b[0m\u001b[0m\n",
      "\u001b[0;31mNameError\u001b[0m: name 'cluster_model' is not defined"
     ]
    }
   ],
   "source": [
    "# Re-fit the k-means model with the selected number of clusters and obtain\n",
    "# cluster predictions for the general population demographics data.\n",
    "cluster_model_15 = KMeans(n_clusters = 15)\n"
   ]
  },
  {
   "cell_type": "code",
   "execution_count": 48,
   "metadata": {},
   "outputs": [],
   "source": [
    "clustered_15 = cluster_model_15.fit(pca_fitted)\n",
    "general_clustered = clustered_15.predict(pca_fitted)"
   ]
  },
  {
   "cell_type": "markdown",
   "metadata": {},
   "source": [
    "### Discussion 3.1: Apply Clustering to General Population\n",
    "\n",
    "(Double-click this cell and replace this text with your own text, reporting your findings and decisions regarding clustering. Into how many clusters have you decided to segment the population?)\n",
    "\n",
    "From above curve, it looks like the score does not chnage noticeably. Based on this curve, 15 clusters are selected."
   ]
  },
  {
   "cell_type": "markdown",
   "metadata": {},
   "source": [
    "### Step 3.2: Apply All Steps to the Customer Data\n",
    "\n",
    "Now that you have clusters and cluster centers for the general population, it's time to see how the customer data maps on to those clusters. Take care to not confuse this for re-fitting all of the models to the customer data. Instead, you're going to use the fits from the general population to clean, transform, and cluster the customer data. In the last step of the project, you will interpret how the general population fits apply to the customer data.\n",
    "\n",
    "- Don't forget when loading in the customers data, that it is semicolon (`;`) delimited.\n",
    "- Apply the same feature wrangling, selection, and engineering steps to the customer demographics using the `clean_data()` function you created earlier. (You can assume that the customer demographics data has similar meaning behind missing data patterns as the general demographics data.)\n",
    "- Use the sklearn objects from the general demographics data, and apply their transformations to the customers data. That is, you should not be using a `.fit()` or `.fit_transform()` method to re-fit the old objects, nor should you be creating new sklearn objects! Carry the data through the feature scaling, PCA, and clustering steps, obtaining cluster assignments for all of the data in the customer demographics data."
   ]
  },
  {
   "cell_type": "code",
   "execution_count": 43,
   "metadata": {},
   "outputs": [],
   "source": [
    "# Load in the customer demographics data.\n",
    "customers = pd.read_csv('Udacity_CUSTOMERS_Subset.csv', sep=';');"
   ]
  },
  {
   "cell_type": "code",
   "execution_count": 49,
   "metadata": {},
   "outputs": [
    {
     "name": "stdout",
     "output_type": "stream",
     "text": [
      "the binary feature is: ANREDE_KZ [1 2]\n",
      "the binary feature is: GREEN_AVANTGARDE [1 0]\n",
      "the binary feature is: SOHO_KZ [ 0.  1.]\n",
      "the binary feature is: OST_WEST_KZ ['W' 'O']\n"
     ]
    },
    {
     "name": "stderr",
     "output_type": "stream",
     "text": [
      "/opt/conda/lib/python3.6/site-packages/pandas/core/generic.py:5821: SettingWithCopyWarning: \n",
      "A value is trying to be set on a copy of a slice from a DataFrame.\n",
      "Try using .loc[row_indexer,col_indexer] = value instead\n",
      "\n",
      "See the caveats in the documentation: http://pandas.pydata.org/pandas-docs/stable/indexing.html#indexing-view-versus-copy\n",
      "  regex=regex)\n",
      "/opt/conda/lib/python3.6/site-packages/ipykernel_launcher.py:72: SettingWithCopyWarning: \n",
      "A value is trying to be set on a copy of a slice from a DataFrame.\n",
      "Try using .loc[row_indexer,col_indexer] = value instead\n",
      "\n",
      "See the caveats in the documentation: http://pandas.pydata.org/pandas-docs/stable/indexing.html#indexing-view-versus-copy\n",
      "/opt/conda/lib/python3.6/site-packages/ipykernel_launcher.py:73: SettingWithCopyWarning: \n",
      "A value is trying to be set on a copy of a slice from a DataFrame.\n",
      "Try using .loc[row_indexer,col_indexer] = value instead\n",
      "\n",
      "See the caveats in the documentation: http://pandas.pydata.org/pandas-docs/stable/indexing.html#indexing-view-versus-copy\n",
      "/opt/conda/lib/python3.6/site-packages/ipykernel_launcher.py:75: SettingWithCopyWarning: \n",
      "A value is trying to be set on a copy of a slice from a DataFrame.\n",
      "Try using .loc[row_indexer,col_indexer] = value instead\n",
      "\n",
      "See the caveats in the documentation: http://pandas.pydata.org/pandas-docs/stable/indexing.html#indexing-view-versus-copy\n",
      "/opt/conda/lib/python3.6/site-packages/ipykernel_launcher.py:76: SettingWithCopyWarning: \n",
      "A value is trying to be set on a copy of a slice from a DataFrame.\n",
      "Try using .loc[row_indexer,col_indexer] = value instead\n",
      "\n",
      "See the caveats in the documentation: http://pandas.pydata.org/pandas-docs/stable/indexing.html#indexing-view-versus-copy\n",
      "/opt/conda/lib/python3.6/site-packages/pandas/core/generic.py:5890: SettingWithCopyWarning: \n",
      "A value is trying to be set on a copy of a slice from a DataFrame\n",
      "\n",
      "See the caveats in the documentation: http://pandas.pydata.org/pandas-docs/stable/indexing.html#indexing-view-versus-copy\n",
      "  self._update_inplace(new_data)\n"
     ]
    }
   ],
   "source": [
    "# Apply preprocessing, feature transformation, and clustering from the general\n",
    "# demographics onto the customer data, obtaining cluster predictions for the\n",
    "# customer demographics data.\n",
    "\n",
    "customers_processed = clean_data(customers)\n",
    "customers_processed_1 = imputer_actor.fit_transform(customers_processed)\n",
    "customers_processed_imputed = pd.DataFrame(customers_processed_1)\n",
    "\n",
    "customers_processed_scaled_1 = feature_scaler.fit_transform(customers_processed_imputed)\n",
    "customers_processed_scaled = pd.DataFrame(customers_processed_scaled_1)\n",
    "\n",
    "customers_pca_done = PC_50_components.fit_transform(customers_processed_scaled)\n",
    "customer_clustered = clustered_15.predict(customers_pca_done)"
   ]
  },
  {
   "cell_type": "markdown",
   "metadata": {},
   "source": [
    "### Step 3.3: Compare Customer Data to Demographics Data\n",
    "\n",
    "At this point, you have clustered data based on demographics of the general population of Germany, and seen how the customer data for a mail-order sales company maps onto those demographic clusters. In this final substep, you will compare the two cluster distributions to see where the strongest customer base for the company is.\n",
    "\n",
    "Consider the proportion of persons in each cluster for the general population, and the proportions for the customers. If we think the company's customer base to be universal, then the cluster assignment proportions should be fairly similar between the two. If there are only particular segments of the population that are interested in the company's products, then we should see a mismatch from one to the other. If there is a higher proportion of persons in a cluster for the customer data compared to the general population (e.g. 5% of persons are assigned to a cluster for the general population, but 15% of the customer data is closest to that cluster's centroid) then that suggests the people in that cluster to be a target audience for the company. On the other hand, the proportion of the data in a cluster being larger in the general population than the customer data (e.g. only 2% of customers closest to a population centroid that captures 6% of the data) suggests that group of persons to be outside of the target demographics.\n",
    "\n",
    "Take a look at the following points in this step:\n",
    "\n",
    "- Compute the proportion of data points in each cluster for the general population and the customer data. Visualizations will be useful here: both for the individual dataset proportions, but also to visualize the ratios in cluster representation between groups. Seaborn's [`countplot()`](https://seaborn.pydata.org/generated/seaborn.countplot.html) or [`barplot()`](https://seaborn.pydata.org/generated/seaborn.barplot.html) function could be handy.\n",
    "  - Recall the analysis you performed in step 1.1.3 of the project, where you separated out certain data points from the dataset if they had more than a specified threshold of missing values. If you found that this group was qualitatively different from the main bulk of the data, you should treat this as an additional data cluster in this analysis. Make sure that you account for the number of data points in this subset, for both the general population and customer datasets, when making your computations!\n",
    "- Which cluster or clusters are overrepresented in the customer dataset compared to the general population? Select at least one such cluster and infer what kind of people might be represented by that cluster. Use the principal component interpretations from step 2.3 or look at additional components to help you make this inference. Alternatively, you can use the `.inverse_transform()` method of the PCA and StandardScaler objects to transform centroids back to the original data space and interpret the retrieved values directly.\n",
    "- Perform a similar investigation for the underrepresented clusters. Which cluster or clusters are underrepresented in the customer dataset compared to the general population, and what kinds of people are typified by these clusters?"
   ]
  },
  {
   "cell_type": "code",
   "execution_count": 52,
   "metadata": {},
   "outputs": [
    {
     "data": {
      "text/plain": [
       "<matplotlib.axes._subplots.AxesSubplot at 0x7f47ffa4fef0>"
      ]
     },
     "execution_count": 52,
     "metadata": {},
     "output_type": "execute_result"
    },
    {
     "data": {
      "image/png": "[encoded data removed]",
      "text/plain": [
       "<matplotlib.figure.Figure at 0x7f47def8c710>"
      ]
     },
     "metadata": {
      "needs_background": "light"
     },
     "output_type": "display_data"
    }
   ],
   "source": [
    "# Compare the proportion of data in each cluster for the customer data to the\n",
    "# proportion of data in each cluster for the general population.\n",
    "fig, axes = plt.subplots(1,2)\n",
    "sns.countplot(customer_clustered,ax=axes[0])\n",
    "sns.countplot(general_clustered,ax=axes[1])  \n"
   ]
  },
  {
   "cell_type": "code",
   "execution_count": 60,
   "metadata": {},
   "outputs": [
    {
     "name": "stdout",
     "output_type": "stream",
     "text": [
      "81\n"
     ]
    }
   ],
   "source": [
    "print(len(list(customers_processed.columns)))"
   ]
  },
  {
   "cell_type": "code",
   "execution_count": 69,
   "metadata": {},
   "outputs": [
    {
     "name": "stdout",
     "output_type": "stream",
     "text": [
      "[  4.91748390e+00  -1.85301304e+00  -2.58788153e+00   5.73979129e-01\n",
      "   7.02860933e-02  -5.28199313e-01  -2.57146871e-01  -5.96917671e-02\n",
      "  -2.17375542e-02   1.01421226e-01  -6.38829780e-01   3.18452766e-01\n",
      "  -7.45953928e-02  -1.32668795e-01  -4.01844295e-01  -1.98273818e-01\n",
      "  -7.92046439e-02   1.28273571e-01  -2.69468914e-02   3.41803740e-02\n",
      "   4.05156864e-02  -5.35947370e-02   5.68636269e-03  -1.57152369e-01\n",
      "  -1.07232667e-01   8.20370687e-02  -2.11773122e-02   1.19284205e-01\n",
      "   9.08460551e-02   2.97079304e-02  -1.17273673e-01  -6.81888487e-02\n",
      "   1.19401772e-01   1.24307003e-01   1.09253439e-02   3.69115267e-02\n",
      "   1.88454811e-01  -5.25280114e-02  -1.05173230e-01  -4.86089255e-03\n",
      "   3.76667835e-02   2.72025131e-02   7.47861859e-02   1.16094555e-02\n",
      "  -1.26003742e-02  -1.63889363e-02   4.04892075e-02   1.69745878e-01\n",
      "  -4.41039782e-02  -8.19536838e-02]\n",
      "   AGER_TYP  ALTERSKATEGORIE_GROB  ANREDE_KZ  CJT_GESAMTTYP  \\\n",
      "0  1.402765              3.784964   1.992828       2.528369   \n",
      "\n",
      "   FINANZ_MINIMALIST  FINANZ_SPARER  FINANZ_VORSORGER  FINANZ_ANLEGER  \\\n",
      "0           3.325611       1.063844           4.96951        1.405026   \n",
      "\n",
      "   FINANZ_UNAUFFAELLIGER  FINANZ_HAUSBAUER     ...      PLZ8_ANTG4  PLZ8_HHZ  \\\n",
      "0               1.470044          4.267273     ...        1.016441  3.484925   \n",
      "\n",
      "   PLZ8_GBZ    ARBEIT  ORTSGR_KLS9  RELAT_AB    DECADE  MOVEMENT    WEALTH  \\\n",
      "0  2.857716  3.273974     6.561389  3.518048  2.041977   0.74198  3.431976   \n",
      "\n",
      "   LIFE_STAGE  \n",
      "0    3.132099  \n",
      "\n",
      "[1 rows x 81 columns]\n"
     ]
    }
   ],
   "source": [
    "# What kinds of people are part of a cluster that is overrepresented in the\n",
    "# customer data compared to the general population?\n",
    "inverse_cluster = clustered_15.cluster_centers_[5]\n",
    "#print(inverse_cluster)\n",
    "inverse_pca = PC_50_components.inverse_transform(inverse_cluster)\n",
    "inverse_scaler = feature_scaler.inverse_transform(inverse_pca)\n",
    "\n",
    "values = inverse_scaler\n",
    "indexes = list(customers_processed.columns)\n",
    "\n",
    "overpresented_customers = pd.DataFrame(np.array([values]),columns=list(indexes))\n",
    "\n",
    "print(overpresented_customers)\n"
   ]
  },
  {
   "cell_type": "code",
   "execution_count": 68,
   "metadata": {},
   "outputs": [
    {
     "name": "stdout",
     "output_type": "stream",
     "text": [
      "   AGER_TYP  ALTERSKATEGORIE_GROB  ANREDE_KZ  CJT_GESAMTTYP  \\\n",
      "0 -0.806019              0.705055   1.629203       4.720551   \n",
      "\n",
      "   FINANZ_MINIMALIST  FINANZ_SPARER  FINANZ_VORSORGER  FINANZ_ANLEGER  \\\n",
      "0           4.964618       1.295647          5.013761         0.91558   \n",
      "\n",
      "   FINANZ_UNAUFFAELLIGER  FINANZ_HAUSBAUER     ...      PLZ8_ANTG4  PLZ8_HHZ  \\\n",
      "0               2.380997          1.150687     ...       -0.147276   3.60865   \n",
      "\n",
      "   PLZ8_GBZ    ARBEIT  ORTSGR_KLS9  RELAT_AB    DECADE  MOVEMENT    WEALTH  \\\n",
      "0  4.082798  4.124893     8.688015  4.640396  2.236331 -0.515283  4.270387   \n",
      "\n",
      "   LIFE_STAGE  \n",
      "0    2.660387  \n",
      "\n",
      "[1 rows x 81 columns]\n"
     ]
    }
   ],
   "source": [
    "# What kinds of people are part of a cluster that is underrepresented in the\n",
    "# customer data compared to the general population?\n",
    "inverse_cluster = clustered_15.cluster_centers_[3]\n",
    "inverse_pca = PC_50_components.inverse_transform(inverse_cluster)\n",
    "inverse_scaler = feature_scaler.inverse_transform(inverse_pca)\n",
    "\n",
    "values = inverse_scaler\n",
    "indexes = list(customers_processed.columns)\n",
    "\n",
    "underpresented_customers = pd.DataFrame(np.array([values]),columns=list(indexes))\n",
    "\n",
    "print(underpresented_customers)\n"
   ]
  },
  {
   "cell_type": "markdown",
   "metadata": {},
   "source": [
    "### Discussion 3.3: Compare Customer Data to Demographics Data\n",
    "\n",
    "(Double-click this cell and replace this text with your own text, reporting findings and conclusions from the clustering analysis. Can we describe segments of the population that are relatively popular with the mail-order company, or relatively unpopular with the company?)\n",
    "\n",
    "Overrepresented customer cluster:\n",
    "The principal component 5 shows a high number of custemrs relative to other customer clusters. In the general group, that component does not show that high number of people compared to other cluster. So, PC number 5 was selected as overpresented. This PC was related back to the original features. For example,  ALTERSKATEGORIE_GROB=0.705055 implies that in terms of age, customers belonging to this cluster are around 30 years old; CJT_GESAMTTYP = 2.528369 implies that these customer are \"advertisinginterested Store-shopper\" type. Similar interpretations can be made for other features.\n",
    "\n",
    "Overrepresented customer cluster:\n",
    "Cluster number 3 was selected as underrepresented as it had less number of members compared to other customer cluster. The features show the characteristics of the customers in this cluster; for example, ALTERSKATEGORIE_GROB=0.705055 shows these customers are nearly 30 years old. FINANZ_MINIMALIST=4.964618 implies that \"low financial interst\" is very low in these cluster. Other features can be interpreted in a similar way.\n",
    "\n",
    "\n"
   ]
  },
  {
   "cell_type": "markdown",
   "metadata": {},
   "source": [
    "> Congratulations on making it this far in the project! Before you finish, make sure to check through the entire notebook from top to bottom to make sure that your analysis follows a logical flow and all of your findings are documented in **Discussion** cells. Once you've checked over all of your work, you should export the notebook as an HTML document to submit for evaluation. You can do this from the menu, navigating to **File -> Download as -> HTML (.html)**. You will submit both that document and this notebook for your project submission."
   ]
  },
  {
   "cell_type": "code",
   "execution_count": null,
   "metadata": {},
   "outputs": [],
   "source": []
  }
 ],
 "metadata": {
  "kernelspec": {
   "display_name": "Python 3",
   "language": "python",
   "name": "python3"
  },
  "language_info": {
   "codemirror_mode": {
    "name": "ipython",
    "version": 3
   },
   "file_extension": ".py",
   "mimetype": "text/x-python",
   "name": "python",
   "nbconvert_exporter": "python",
   "pygments_lexer": "ipython3",
   "version": "3.6.3"
  }
 },
 "nbformat": 4,
 "nbformat_minor": 2
}
